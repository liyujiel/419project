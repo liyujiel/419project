{
  "nbformat": 4,
  "nbformat_minor": 0,
  "metadata": {
    "colab": {
      "name": "419Project.ipynb",
      "version": "0.3.2",
      "provenance": [],
      "collapsed_sections": [],
      "toc_visible": true,
      "include_colab_link": true
    },
    "kernelspec": {
      "name": "python3",
      "display_name": "Python 3"
    },
    "accelerator": "GPU"
  },
  "cells": [
    {
      "cell_type": "markdown",
      "metadata": {
        "id": "view-in-github",
        "colab_type": "text"
      },
      "source": [
        "<a href=\"https://colab.research.google.com/github/liyujiel/419project/blob/master/419Project.ipynb\" target=\"_parent\"><img src=\"https://colab.research.google.com/assets/colab-badge.svg\" alt=\"Open In Colab\"/></a>"
      ]
    },
    {
      "metadata": {
        "id": "Yrd5GjAt97RZ",
        "colab_type": "text"
      },
      "cell_type": "markdown",
      "source": [
        "# CMPT419 Project"
      ]
    },
    {
      "metadata": {
        "id": "e2b9tYJSoJmM",
        "colab_type": "code",
        "outputId": "6a77f706-b2ec-43fb-dd6d-f55a80c88ac8",
        "colab": {
          "base_uri": "https://localhost:8080/",
          "height": 122
        }
      },
      "cell_type": "code",
      "source": [
        "from google.colab import drive\n",
        "drive.mount('/content/gdrive')"
      ],
      "execution_count": 0,
      "outputs": [
        {
          "output_type": "stream",
          "text": [
            "Go to this URL in a browser: https://accounts.google.com/o/oauth2/auth?client_id=947318989803-6bn6qk8qdgf4n4g3pfee6491hc0brc4i.apps.googleusercontent.com&redirect_uri=urn%3Aietf%3Awg%3Aoauth%3A2.0%3Aoob&scope=email%20https%3A%2F%2Fwww.googleapis.com%2Fauth%2Fdocs.test%20https%3A%2F%2Fwww.googleapis.com%2Fauth%2Fdrive%20https%3A%2F%2Fwww.googleapis.com%2Fauth%2Fdrive.photos.readonly%20https%3A%2F%2Fwww.googleapis.com%2Fauth%2Fpeopleapi.readonly&response_type=code\n",
            "\n",
            "Enter your authorization code:\n",
            "··········\n",
            "Mounted at /content/gdrive\n"
          ],
          "name": "stdout"
        }
      ]
    },
    {
      "metadata": {
        "colab_type": "code",
        "id": "rtpM9euFpf2M",
        "outputId": "2c89fb4b-1c20-44c3-f6b6-8ba0eec57fe3",
        "colab": {
          "base_uri": "https://localhost:8080/",
          "height": 34
        }
      },
      "cell_type": "code",
      "source": [
        "import tensorflow as tf\n",
        "device_name = tf.test.gpu_device_name()\n",
        "if device_name != '/device:GPU:0':\n",
        "  raise SystemError('GPU device not found')\n",
        "print('Found GPU at: {}'.format(device_name))"
      ],
      "execution_count": 0,
      "outputs": [
        {
          "output_type": "stream",
          "text": [
            "Found GPU at: /device:GPU:0\n"
          ],
          "name": "stdout"
        }
      ]
    },
    {
      "metadata": {
        "id": "PW7WMcAjxpZ6",
        "colab_type": "code",
        "colab": {}
      },
      "cell_type": "code",
      "source": [
        "# TPU_WORKER = 'grpc://' + os.environ['COLAB_TPU_ADDR']"
      ],
      "execution_count": 0,
      "outputs": []
    },
    {
      "metadata": {
        "id": "KPSuG_nc-71h",
        "colab_type": "text"
      },
      "cell_type": "markdown",
      "source": [
        "## Base line"
      ]
    },
    {
      "metadata": {
        "id": "P-v-haC1mYSK",
        "colab_type": "code",
        "outputId": "a32c0f3d-06ae-4b02-8c55-9a81fdea9951",
        "colab": {
          "base_uri": "https://localhost:8080/",
          "height": 34
        }
      },
      "cell_type": "code",
      "source": [
        "from keras.utils import multi_gpu_model"
      ],
      "execution_count": 0,
      "outputs": [
        {
          "output_type": "stream",
          "text": [
            "Using TensorFlow backend.\n"
          ],
          "name": "stderr"
        }
      ]
    },
    {
      "metadata": {
        "id": "EGri_FlL-K9x",
        "colab_type": "code",
        "colab": {}
      },
      "cell_type": "code",
      "source": [
        "import keras\n",
        "from keras.models import Sequential\n",
        "from keras.layers.core import Dense, Dropout, Activation, Flatten\n",
        "from keras.callbacks import EarlyStopping,ModelCheckpoint\n",
        "from keras.layers.convolutional import Conv2D, MaxPooling2D, ZeroPadding2D, AveragePooling2D\n",
        "from keras.layers.normalization import BatchNormalization\n",
        "from keras.regularizers import l2\n",
        "\n",
        "from keras.preprocessing import image\n",
        "from keras.preprocessing.image import ImageDataGenerator\n",
        "\n",
        "import numpy as np\n",
        "import matplotlib.pyplot as plt"
      ],
      "execution_count": 0,
      "outputs": []
    },
    {
      "metadata": {
        "id": "WZClDS75_W_0",
        "colab_type": "text"
      },
      "cell_type": "markdown",
      "source": [
        "### cpu - gpu configuration"
      ]
    },
    {
      "metadata": {
        "id": "z11n5URA-K7i",
        "colab_type": "code",
        "colab": {}
      },
      "cell_type": "code",
      "source": [
        "sess = tf.Session(config=tf.ConfigProto(log_device_placement=True))\n",
        "keras.backend.set_session(sess)"
      ],
      "execution_count": 0,
      "outputs": []
    },
    {
      "metadata": {
        "id": "kzHrdC0C-K4y",
        "colab_type": "code",
        "colab": {}
      },
      "cell_type": "code",
      "source": [
        "num_classes = 7 #angry, disgust, fear, happy, sad, surprise, neutral\n",
        "batch_size = 128\n",
        "epochs = 10"
      ],
      "execution_count": 0,
      "outputs": []
    },
    {
      "metadata": {
        "id": "AbQHooVq-K1p",
        "colab_type": "code",
        "outputId": "372a1b9e-0a7e-4b65-955f-502c079498fb",
        "colab": {
          "base_uri": "https://localhost:8080/",
          "height": 51
        }
      },
      "cell_type": "code",
      "source": [
        "with open(\"/content/gdrive/My Drive/fer2013.csv\") as f:\n",
        "    content = f.readlines()\n",
        "\n",
        "lines = np.array(content) \n",
        "\n",
        "num_of_instances = lines.size\n",
        "print(\"number of instances: \",num_of_instances)\n",
        "print(\"instance length: \",len(lines[1].split(\",\")[1].split(\" \")))"
      ],
      "execution_count": 0,
      "outputs": [
        {
          "output_type": "stream",
          "text": [
            "number of instances:  35888\n",
            "instance length:  2304\n"
          ],
          "name": "stdout"
        }
      ]
    },
    {
      "metadata": {
        "id": "3nYNuVJd_9kj",
        "colab_type": "text"
      },
      "cell_type": "markdown",
      "source": [
        "### initialize trainset and test set"
      ]
    },
    {
      "metadata": {
        "id": "GB42iuQi_69a",
        "colab_type": "code",
        "colab": {}
      },
      "cell_type": "code",
      "source": [
        "x_train, y_train, x_test, y_test = [], [], [], []"
      ],
      "execution_count": 0,
      "outputs": []
    },
    {
      "metadata": {
        "id": "bs3qsIF8_67D",
        "colab_type": "code",
        "colab": {}
      },
      "cell_type": "code",
      "source": [
        "for i in range(1,num_of_instances):\n",
        "    try:\n",
        "        emotion, img, usage = lines[i].split(\",\")\n",
        "          \n",
        "        val = img.split(\" \")\n",
        "        pixels = np.array(val, 'float32')\n",
        "\n",
        "        emotion = keras.utils.to_categorical(emotion, num_classes)\n",
        "\n",
        "        if 'Training' in usage:\n",
        "            y_train.append(emotion)\n",
        "            x_train.append(pixels)\n",
        "        elif 'PublicTest' in usage:\n",
        "            y_test.append(emotion)\n",
        "            x_test.append(pixels)\n",
        "\n",
        "    except:\n",
        "    \tprint(\"\",end=\"\")"
      ],
      "execution_count": 0,
      "outputs": []
    },
    {
      "metadata": {
        "id": "25Bd5QPK_66N",
        "colab_type": "code",
        "outputId": "7aed6d8f-d5ce-48d4-bc26-52944248dd6f",
        "colab": {
          "base_uri": "https://localhost:8080/",
          "height": 51
        }
      },
      "cell_type": "code",
      "source": [
        "x_train = np.array(x_train, 'float32')\n",
        "y_train = np.array(y_train, 'float32')\n",
        "x_test = np.array(x_test, 'float32')\n",
        "y_test = np.array(y_test, 'float32')\n",
        "\n",
        "x_train /= 255 #normalize inputs between [0, 1]\n",
        "x_test /= 255\n",
        "\n",
        "x_train = x_train.reshape(x_train.shape[0], 48, 48, 1)\n",
        "x_train = x_train.astype('float32')\n",
        "x_test = x_test.reshape(x_test.shape[0], 48, 48, 1)\n",
        "x_test = x_test.astype('float32')\n",
        "\n",
        "print(x_train.shape[0], 'train samples')\n",
        "print(x_test.shape[0], 'test samples')"
      ],
      "execution_count": 0,
      "outputs": [
        {
          "output_type": "stream",
          "text": [
            "28709 train samples\n",
            "3589 test samples\n"
          ],
          "name": "stdout"
        }
      ]
    },
    {
      "metadata": {
        "id": "Q6jDxoV52VS7",
        "colab_type": "text"
      },
      "cell_type": "markdown",
      "source": [
        "### Baseline Net"
      ]
    },
    {
      "metadata": {
        "id": "4vORZLnX_62d",
        "colab_type": "code",
        "colab": {}
      },
      "cell_type": "code",
      "source": [
        "def base_cnn_model(img_shape=(48, 48, 1), n_classes=7):\n",
        "    #construct CNN structure\n",
        "    model = Sequential()\n",
        "\n",
        "    #1st convolution layer\n",
        "    model.add(Conv2D(64, (5, 5), activation='relu', input_shape=img_shape))\n",
        "    model.add(MaxPooling2D(pool_size=(5,5), strides=(2, 2)))\n",
        "\n",
        "    #2nd convolution layer\n",
        "    model.add(Conv2D(64, (3, 3), activation='relu'))\n",
        "    model.add(Conv2D(64, (3, 3), activation='relu'))\n",
        "    model.add(AveragePooling2D(pool_size=(3,3), strides=(2, 2)))\n",
        "\n",
        "    #3rd convolution layer\n",
        "    model.add(Conv2D(128, (3, 3), activation='relu'))\n",
        "    model.add(Conv2D(128, (3, 3), activation='relu'))\n",
        "    model.add(AveragePooling2D(pool_size=(3,3), strides=(2, 2)))\n",
        "\n",
        "    model.add(Flatten())\n",
        "\n",
        "    #fully connected neural networks\n",
        "    model.add(Dense(1024, activation='relu'))\n",
        "    model.add(Dropout(0.2))\n",
        "    model.add(Dense(1024, activation='relu'))\n",
        "    model.add(Dropout(0.2))\n",
        "\n",
        "    model.add(Dense(n_classes, activation='softmax'))\n",
        "    \n",
        "    return model"
      ],
      "execution_count": 0,
      "outputs": []
    },
    {
      "metadata": {
        "id": "W3OgjufxcFDI",
        "colab_type": "code",
        "colab": {}
      },
      "cell_type": "code",
      "source": [
        "model = base_cnn_model()"
      ],
      "execution_count": 0,
      "outputs": []
    },
    {
      "metadata": {
        "id": "TKorh7aC2cRb",
        "colab_type": "text"
      },
      "cell_type": "markdown",
      "source": [
        "### AlexNet"
      ]
    },
    {
      "metadata": {
        "id": "Ht5rwmPf20ty",
        "colab_type": "code",
        "colab": {}
      },
      "cell_type": "code",
      "source": [
        "def alexnet_model(img_shape=(48, 48, 1), n_classes=7, l2_reg=0.1,\n",
        "\tweights=None):\n",
        "\n",
        "\t# Initialize model\n",
        "\talexnet = Sequential()\n",
        "\n",
        "\t# Layer 1\n",
        "\talexnet.add(Conv2D(96, (11, 11), input_shape=img_shape,\n",
        "\t\tpadding='same', kernel_regularizer=l2(l2_reg)))\n",
        "\talexnet.add(BatchNormalization())\n",
        "\talexnet.add(Activation('relu'))\n",
        "\talexnet.add(MaxPooling2D(pool_size=(2, 2)))\n",
        "\n",
        "\t# Layer 2\n",
        "\talexnet.add(Conv2D(256, (5, 5), padding='same'))\n",
        "\talexnet.add(BatchNormalization())\n",
        "\talexnet.add(Activation('relu'))\n",
        "\talexnet.add(MaxPooling2D(pool_size=(2, 2)))\n",
        "\n",
        "\t# Layer 3\n",
        "\talexnet.add(ZeroPadding2D((1, 1)))\n",
        "\talexnet.add(Conv2D(512, (3, 3), padding='same'))\n",
        "\talexnet.add(BatchNormalization())\n",
        "\talexnet.add(Activation('relu'))\n",
        "\talexnet.add(MaxPooling2D(pool_size=(2, 2)))\n",
        "\n",
        "\t# Layer 4\n",
        "\talexnet.add(ZeroPadding2D((1, 1)))\n",
        "\talexnet.add(Conv2D(1024, (3, 3), padding='same'))\n",
        "\talexnet.add(BatchNormalization())\n",
        "\talexnet.add(Activation('relu'))\n",
        "\n",
        "\t# Layer 5\n",
        "\talexnet.add(ZeroPadding2D((1, 1)))\n",
        "\talexnet.add(Conv2D(1024, (3, 3), padding='same'))\n",
        "\talexnet.add(BatchNormalization())\n",
        "\talexnet.add(Activation('relu'))\n",
        "\talexnet.add(MaxPooling2D(pool_size=(2, 2)))\n",
        "\n",
        "\t# Layer 6\n",
        "\talexnet.add(Flatten())\n",
        "\talexnet.add(Dense(3072))\n",
        "\talexnet.add(BatchNormalization())\n",
        "\talexnet.add(Activation('relu'))\n",
        "\talexnet.add(Dropout(0.5))\n",
        "\n",
        "\t# Layer 7\n",
        "\talexnet.add(Dense(4096))\n",
        "\talexnet.add(BatchNormalization())\n",
        "\talexnet.add(Activation('relu'))\n",
        "\talexnet.add(Dropout(0.5))\n",
        "\n",
        "\t# Layer 8\n",
        "\talexnet.add(Dense(n_classes))\n",
        "\talexnet.add(BatchNormalization())\n",
        "\talexnet.add(Activation('softmax'))\n",
        "\n",
        "\tif weights is not None:\n",
        "\t\talexnet.load_weights(weights)\n",
        "\n",
        "\treturn alexnet"
      ],
      "execution_count": 0,
      "outputs": []
    },
    {
      "metadata": {
        "id": "FmUZi7_GHNXL",
        "colab_type": "code",
        "colab": {}
      },
      "cell_type": "code",
      "source": [
        "model = alexnet_model()"
      ],
      "execution_count": 0,
      "outputs": []
    },
    {
      "metadata": {
        "id": "bOCx_iBCnLGR",
        "colab_type": "text"
      },
      "cell_type": "markdown",
      "source": [
        "### ResNet50"
      ]
    },
    {
      "metadata": {
        "id": "zooD9aSKqMgZ",
        "colab_type": "code",
        "colab": {}
      },
      "cell_type": "code",
      "source": [
        "from keras import applications"
      ],
      "execution_count": 0,
      "outputs": []
    },
    {
      "metadata": {
        "id": "U75fQkkdqgM6",
        "colab_type": "code",
        "colab": {}
      },
      "cell_type": "code",
      "source": [
        "# model = keras.applications.resnet50.ResNet50(include_top=True, weights=None, input_tensor=None, input_shape=(48, 48, 1), pooling=None, classes=7)"
      ],
      "execution_count": 0,
      "outputs": []
    },
    {
      "metadata": {
        "id": "BGQ6kzVmHJK4",
        "colab_type": "text"
      },
      "cell_type": "markdown",
      "source": [
        "### VGG19"
      ]
    },
    {
      "metadata": {
        "id": "HOQL4Qxhq7Et",
        "colab_type": "code",
        "colab": {}
      },
      "cell_type": "code",
      "source": [
        "def vgg19_model(img_shape=(48, 48, 1), n_classes=7, l2_reg=0.1,\n",
        "\tweights=None):\n",
        "\n",
        "\t# Initialize model\n",
        "\tvgg19 = Sequential()\n",
        "\n",
        "\t# Layer 1 & 2\n",
        "\tvgg19.add(Conv2D(64, (3, 3), padding='same',\n",
        "\t\tinput_shape=img_shape, kernel_regularizer=l2(l2_reg)))\n",
        "\tvgg19.add(Activation('relu'))\n",
        "\tvgg19.add(ZeroPadding2D((1, 1)))\n",
        "\tvgg19.add(Conv2D(64, (3, 3), padding='same'))\n",
        "\tvgg19.add(Activation('relu'))\n",
        "\tvgg19.add(MaxPooling2D(pool_size=(2, 2)))\n",
        "\n",
        "\t# Layer 3 & 4\n",
        "\tvgg19.add(ZeroPadding2D((1, 1)))\n",
        "\tvgg19.add(Conv2D(128, (3, 3), padding='same'))\n",
        "\tvgg19.add(Activation('relu'))\n",
        "\tvgg19.add(ZeroPadding2D((1, 1)))\n",
        "\tvgg19.add(Conv2D(128, (3, 3), padding='same'))\n",
        "\tvgg19.add(Activation('relu'))\n",
        "\tvgg19.add(MaxPooling2D(pool_size=(2, 2)))\n",
        "\n",
        "\t# Layer 5, 6, 7, & 8\n",
        "\tvgg19.add(ZeroPadding2D((1, 1)))\n",
        "\tvgg19.add(Conv2D(256, (3, 3), padding='same'))\n",
        "\tvgg19.add(Activation('relu'))\n",
        "\tvgg19.add(ZeroPadding2D((1, 1)))\n",
        "\tvgg19.add(Conv2D(256, (3, 3), padding='same'))\n",
        "\tvgg19.add(Activation('relu'))\n",
        "\tvgg19.add(ZeroPadding2D((1, 1)))\n",
        "\tvgg19.add(Conv2D(256, (3, 3), padding='same'))\n",
        "\tvgg19.add(Activation('relu'))\n",
        "\tvgg19.add(ZeroPadding2D((1, 1)))\n",
        "\tvgg19.add(Conv2D(256, (3, 3), padding='same'))\n",
        "\tvgg19.add(Activation('relu'))\n",
        "\tvgg19.add(MaxPooling2D(pool_size=(2, 2)))\n",
        "\n",
        "\t# Layers 9, 10, 11, & 12\n",
        "\tvgg19.add(ZeroPadding2D((1, 1)))\n",
        "\tvgg19.add(Conv2D(512, (3, 3), padding='same'))\n",
        "\tvgg19.add(Activation('relu'))\n",
        "\tvgg19.add(ZeroPadding2D((1, 1)))\n",
        "\tvgg19.add(Conv2D(512, (3, 3), padding='same'))\n",
        "\tvgg19.add(Activation('relu'))\n",
        "\tvgg19.add(ZeroPadding2D((1, 1)))\n",
        "\tvgg19.add(Conv2D(512, (3, 3), padding='same'))\n",
        "\tvgg19.add(Activation('relu'))\n",
        "\tvgg19.add(ZeroPadding2D((1, 1)))\n",
        "\tvgg19.add(Conv2D(512, (3, 3), padding='same'))\n",
        "\tvgg19.add(Activation('relu'))\n",
        "\tvgg19.add(MaxPooling2D(pool_size=(2, 2)))\n",
        "\n",
        "\t# Layers 13, 14, 15, & 16\n",
        "\tvgg19.add(ZeroPadding2D((1, 1)))\n",
        "\tvgg19.add(Conv2D(512, (3, 3), padding='same'))\n",
        "\tvgg19.add(Activation('relu'))\n",
        "\tvgg19.add(ZeroPadding2D((1, 1)))\n",
        "\tvgg19.add(Conv2D(512, (3, 3), padding='same'))\n",
        "\tvgg19.add(Activation('relu'))\n",
        "\tvgg19.add(ZeroPadding2D((1, 1)))\n",
        "\tvgg19.add(Conv2D(512, (3, 3), padding='same'))\n",
        "\tvgg19.add(Activation('relu'))\n",
        "\tvgg19.add(ZeroPadding2D((1, 1)))\n",
        "\tvgg19.add(Conv2D(512, (3, 3), padding='same'))\n",
        "\tvgg19.add(Activation('relu'))\n",
        "\tvgg19.add(MaxPooling2D(pool_size=(2, 2)))\n",
        "\n",
        "\t# Layers 17, 18, & 19\n",
        "\tvgg19.add(Flatten())\n",
        "\tvgg19.add(Dense(4096))\n",
        "\tvgg19.add(Activation('relu'))\n",
        "\tvgg19.add(Dropout(0.5))\n",
        "\tvgg19.add(Dense(4096))\n",
        "\tvgg19.add(Activation('relu'))\n",
        "\tvgg19.add(Dropout(0.5))\n",
        "\tvgg19.add(Dense(n_classes))\n",
        "\tvgg19.add(Activation('softmax'))\n",
        "\n",
        "\tif weights is not None:\n",
        "\t\tvgg19.load_weights(weights)\n",
        "\n",
        "\treturn vgg19"
      ],
      "execution_count": 0,
      "outputs": []
    },
    {
      "metadata": {
        "id": "NxmtoOZL8DL0",
        "colab_type": "code",
        "colab": {}
      },
      "cell_type": "code",
      "source": [
        "# model = vgg19_model()"
      ],
      "execution_count": 0,
      "outputs": []
    },
    {
      "metadata": {
        "id": "UhAxipS_YCy9",
        "colab_type": "text"
      },
      "cell_type": "markdown",
      "source": [
        "### VGG16"
      ]
    },
    {
      "metadata": {
        "id": "lxc2HAn1YCTZ",
        "colab_type": "code",
        "colab": {}
      },
      "cell_type": "code",
      "source": [
        "# model = keras.applications.vgg16.VGG16(include_top=True, weights=None, input_tensor=None, input_shape=(48,48,1), pooling=None, classes=7)"
      ],
      "execution_count": 0,
      "outputs": []
    },
    {
      "metadata": {
        "id": "-T_oq0rJ_Ekz",
        "colab_type": "text"
      },
      "cell_type": "markdown",
      "source": [
        "### Model init"
      ]
    },
    {
      "metadata": {
        "id": "bAfmN3uC_6zq",
        "colab_type": "code",
        "colab": {}
      },
      "cell_type": "code",
      "source": [
        "#batch process\n",
        "gen = ImageDataGenerator()\n",
        "train_generator = gen.flow(x_train, y_train, batch_size=batch_size)"
      ],
      "execution_count": 0,
      "outputs": []
    },
    {
      "metadata": {
        "id": "N6odbVHuAdRL",
        "colab_type": "code",
        "colab": {}
      },
      "cell_type": "code",
      "source": [
        "filepath=\"/content/gdrive/My Drive/weights_base.best.hdf5\"\n",
        "checkpoint = ModelCheckpoint(filepath, monitor='val_acc', verbose=1, save_best_only=True, mode='max')"
      ],
      "execution_count": 0,
      "outputs": []
    },
    {
      "metadata": {
        "id": "ZrEcAZIdALPA",
        "colab_type": "code",
        "colab": {}
      },
      "cell_type": "code",
      "source": [
        "model.compile(loss='categorical_crossentropy'\n",
        "    , optimizer=keras.optimizers.Adam()\n",
        "    , metrics=['accuracy']\n",
        ")"
      ],
      "execution_count": 0,
      "outputs": []
    },
    {
      "metadata": {
        "id": "qU1WZYYvwDwd",
        "colab_type": "code",
        "colab": {}
      },
      "cell_type": "code",
      "source": [
        "model = keras.models.load_model(\"/content/gdrive/My Drive/alex_net_epoch25.h5\") # 99% acc"
      ],
      "execution_count": 0,
      "outputs": []
    },
    {
      "metadata": {
        "id": "x82vInNkxzyk",
        "colab_type": "text"
      },
      "cell_type": "markdown",
      "source": [
        "### TPU model"
      ]
    },
    {
      "metadata": {
        "id": "I2P7C1pC05RK",
        "colab_type": "code",
        "colab": {}
      },
      "cell_type": "code",
      "source": [
        "# tf.keras.backend.clear_session()"
      ],
      "execution_count": 0,
      "outputs": []
    },
    {
      "metadata": {
        "id": "90zw0lm8xq25",
        "colab_type": "code",
        "colab": {}
      },
      "cell_type": "code",
      "source": [
        "# tpu_model = tf.contrib.tpu.keras_support.tpu_model(\n",
        "#     model,\n",
        "#     strategy=tf.contrib.tpu.TPUDistributionStrategy(\n",
        "#         tf.contrib.cluster_resolver.TPUClusterResolver(TPU_WORKER)))"
      ],
      "execution_count": 0,
      "outputs": []
    },
    {
      "metadata": {
        "id": "OwJ7cejZx3T0",
        "colab_type": "text"
      },
      "cell_type": "markdown",
      "source": [
        "### Train model"
      ]
    },
    {
      "metadata": {
        "id": "Wse_wzO8ALMV",
        "colab_type": "code",
        "colab": {}
      },
      "cell_type": "code",
      "source": [
        "fit = False\n",
        "\n",
        "if fit == True:\n",
        "\t#model.fit_generator(x_train, y_train, epochs=epochs) #train for all trainset\n",
        "\tmodel.fit_generator(train_generator, steps_per_epoch=batch_size, epochs=epochs) #train for randomly selected one\n",
        "else:\n",
        "\tmodel.load_weights('/content/gdrive/My Drive/alex_net_epoch25.h5') #load weights"
      ],
      "execution_count": 0,
      "outputs": []
    },
    {
      "metadata": {
        "id": "-1laTJX9ALJy",
        "colab_type": "code",
        "outputId": "3fb94f39-d5d2-4715-fa49-7666146f9476",
        "colab": {
          "base_uri": "https://localhost:8080/",
          "height": 68
        }
      },
      "cell_type": "code",
      "source": [
        "#overall evaluation\n",
        "score = model.evaluate(x_test, y_test)\n",
        "print('Test loss:', score[0])\n",
        "print('Test accuracy:', 100*score[1])"
      ],
      "execution_count": 0,
      "outputs": [
        {
          "output_type": "stream",
          "text": [
            "3589/3589 [==============================] - 7s 2ms/step\n",
            "Test loss: 1.299033981207919\n",
            "Test accuracy: 61.96712176176658\n"
          ],
          "name": "stdout"
        }
      ]
    },
    {
      "metadata": {
        "id": "5jeRekm1_kTN",
        "colab_type": "code",
        "colab": {}
      },
      "cell_type": "code",
      "source": [
        "score = model.predict(x_test)\n",
        "y_classes = score.argmax(axis=-1)"
      ],
      "execution_count": 0,
      "outputs": []
    },
    {
      "metadata": {
        "id": "0Z-Y0tcnBXN9",
        "colab_type": "code",
        "outputId": "26f83642-5c7b-4977-977b-7c5e2a7aa3d8",
        "colab": {
          "base_uri": "https://localhost:8080/",
          "height": 34
        }
      },
      "cell_type": "code",
      "source": [
        "y_classes"
      ],
      "execution_count": 0,
      "outputs": [
        {
          "output_type": "execute_result",
          "data": {
            "text/plain": [
              "array([6, 6, 0, ..., 6, 0, 6])"
            ]
          },
          "metadata": {
            "tags": []
          },
          "execution_count": 30
        }
      ]
    },
    {
      "metadata": {
        "id": "Kayh7PT5CsUo",
        "colab_type": "code",
        "outputId": "79966734-997a-4de3-ea1a-3132dd2e905a",
        "colab": {
          "base_uri": "https://localhost:8080/",
          "height": 946
        }
      },
      "cell_type": "code",
      "source": [
        "model.save('/content/gdrive/My Drive/alexnet_epoch10_batch512.h5')"
      ],
      "execution_count": 0,
      "outputs": [
        {
          "output_type": "stream",
          "text": [
            "ERROR:root:Internal Python error in the inspect module.\n",
            "Below is the traceback from this internal error.\n",
            "\n"
          ],
          "name": "stderr"
        },
        {
          "output_type": "stream",
          "text": [
            "Traceback (most recent call last):\n",
            "  File \"/usr/local/lib/python3.6/dist-packages/IPython/core/interactiveshell.py\", line 2882, in run_code\n",
            "    exec(code_obj, self.user_global_ns, self.user_ns)\n",
            "  File \"<ipython-input-31-293337b04445>\", line 1, in <module>\n",
            "    model.save('/content/gdrive/My Drive/alexnet_epoch10_batch512.h5')\n",
            "  File \"/usr/local/lib/python3.6/dist-packages/keras/engine/network.py\", line 1090, in save\n",
            "    save_model(self, filepath, overwrite, include_optimizer)\n",
            "  File \"/usr/local/lib/python3.6/dist-packages/keras/engine/saving.py\", line 382, in save_model\n",
            "    _serialize_model(model, f, include_optimizer)\n",
            "  File \"/usr/local/lib/python3.6/dist-packages/keras/engine/saving.py\", line 114, in _serialize_model\n",
            "    layer_group[name] = val\n",
            "  File \"/usr/local/lib/python3.6/dist-packages/keras/utils/io_utils.py\", line 223, in __setitem__\n",
            "    dataset[:] = val\n",
            "  File \"h5py/_objects.pyx\", line 54, in h5py._objects.with_phil.wrapper\n",
            "  File \"h5py/_objects.pyx\", line 55, in h5py._objects.with_phil.wrapper\n",
            "  File \"/usr/local/lib/python3.6/dist-packages/h5py/_hl/dataset.py\", line 632, in __setitem__\n",
            "    self.id.write(mspace, fspace, val, mtype, dxpl=self._dxpl)\n",
            "KeyboardInterrupt\n",
            "\n",
            "During handling of the above exception, another exception occurred:\n",
            "\n",
            "Traceback (most recent call last):\n",
            "  File \"/usr/local/lib/python3.6/dist-packages/IPython/core/interactiveshell.py\", line 1823, in showtraceback\n",
            "    stb = value._render_traceback_()\n",
            "AttributeError: 'KeyboardInterrupt' object has no attribute '_render_traceback_'\n",
            "\n",
            "During handling of the above exception, another exception occurred:\n",
            "\n",
            "Traceback (most recent call last):\n",
            "  File \"/usr/local/lib/python3.6/dist-packages/IPython/core/ultratb.py\", line 1132, in get_records\n",
            "    return _fixed_getinnerframes(etb, number_of_lines_of_context, tb_offset)\n",
            "  File \"/usr/local/lib/python3.6/dist-packages/IPython/core/ultratb.py\", line 313, in wrapped\n",
            "    return f(*args, **kwargs)\n",
            "  File \"/usr/local/lib/python3.6/dist-packages/IPython/core/ultratb.py\", line 358, in _fixed_getinnerframes\n",
            "    records = fix_frame_records_filenames(inspect.getinnerframes(etb, context))\n",
            "  File \"/usr/lib/python3.6/inspect.py\", line 1488, in getinnerframes\n",
            "    frameinfo = (tb.tb_frame,) + getframeinfo(tb, context)\n",
            "  File \"/usr/lib/python3.6/inspect.py\", line 1446, in getframeinfo\n",
            "    filename = getsourcefile(frame) or getfile(frame)\n",
            "  File \"/usr/lib/python3.6/inspect.py\", line 696, in getsourcefile\n",
            "    if getattr(getmodule(object, filename), '__loader__', None) is not None:\n",
            "  File \"/usr/lib/python3.6/inspect.py\", line 742, in getmodule\n",
            "    os.path.realpath(f)] = module.__name__\n",
            "  File \"/usr/lib/python3.6/posixpath.py\", line 389, in realpath\n",
            "    return abspath(path)\n",
            "  File \"/usr/lib/python3.6/posixpath.py\", line 371, in abspath\n",
            "    path = os.fspath(path)\n",
            "KeyboardInterrupt\n"
          ],
          "name": "stdout"
        },
        {
          "output_type": "error",
          "ename": "KeyboardInterrupt",
          "evalue": "ignored",
          "traceback": [
            "\u001b[0;31m---------------------------------------------------------------------------\u001b[0m"
          ]
        }
      ]
    },
    {
      "metadata": {
        "id": "rgVlAXS3ALHQ",
        "colab_type": "code",
        "colab": {}
      },
      "cell_type": "code",
      "source": [
        "def emotion_analysis(emotions):\n",
        "    objects = ('angry', 'disgust', 'fear', 'happy', 'sad', 'surprise', 'neutral')\n",
        "    y_pos = np.arange(len(objects))\n",
        "    \n",
        "    plt.bar(y_pos, emotions, align='center', alpha=0.5)\n",
        "    plt.xticks(y_pos, objects)\n",
        "    plt.ylabel('percentage')\n",
        "    plt.title('emotion')\n",
        "    \n",
        "    plt.show()\n"
      ],
      "execution_count": 0,
      "outputs": []
    },
    {
      "metadata": {
        "id": "hYhMPW3vAYBM",
        "colab_type": "code",
        "colab": {}
      },
      "cell_type": "code",
      "source": [
        "monitor_testset_results = False\n",
        "\n",
        "if monitor_testset_results == True:\n",
        "\t#make predictions for test set\n",
        "\tpredictions = model.predict(x_test)\n",
        "\n",
        "\tindex = 0\n",
        "\tfor i in predictions:\n",
        "\t\tif index < 30 and index >= 20:\n",
        "\t\t\t#print(i) #predicted scores\n",
        "\t\t\t#print(y_test[index]) #actual scores\n",
        "\t\t\t\n",
        "\t\t\ttesting_img = np.array(x_test[index], 'float32')\n",
        "\t\t\ttesting_img = testing_img.reshape([48, 48]);\n",
        "\t\t\t\n",
        "\t\t\tplt.gray()\n",
        "\t\t\tplt.imshow(testing_img)\n",
        "\t\t\tplt.show()\n",
        "\t\t\t\n",
        "\t\t\tprint(i)\n",
        "\t\t\t\n",
        "\t\t\temotion_analysis(i)\n",
        "\t\t\tprint(\"----------------------------------------------\")\n",
        "\t\tindex = index + 1"
      ],
      "execution_count": 0,
      "outputs": []
    },
    {
      "metadata": {
        "id": "vXUROIc0AcQj",
        "colab_type": "text"
      },
      "cell_type": "markdown",
      "source": [
        "### Test Picture"
      ]
    },
    {
      "metadata": {
        "id": "tIF4WBot0RXf",
        "colab_type": "code",
        "outputId": "7d0956b8-07c8-4f12-b6ce-52d4707de3f2",
        "colab": {
          "base_uri": "https://localhost:8080/",
          "height": 204
        }
      },
      "cell_type": "code",
      "source": [
        "!wget https://nricafe.com/wp-content/uploads/2015/09/Happy-Indian.jpg"
      ],
      "execution_count": 0,
      "outputs": [
        {
          "output_type": "stream",
          "text": [
            "--2018-12-02 02:57:04--  https://nricafe.com/wp-content/uploads/2015/09/Happy-Indian.jpg\n",
            "Resolving nricafe.com (nricafe.com)... 104.27.184.42, 104.27.185.42, 2606:4700:30::681b:b92a, ...\n",
            "Connecting to nricafe.com (nricafe.com)|104.27.184.42|:443... connected.\n",
            "HTTP request sent, awaiting response... 200 OK\n",
            "Length: 69751 (68K) [image/jpeg]\n",
            "Saving to: ‘Happy-Indian.jpg’\n",
            "\n",
            "Happy-Indian.jpg    100%[===================>]  68.12K  --.-KB/s    in 0.008s  \n",
            "\n",
            "2018-12-02 02:57:05 (8.30 MB/s) - ‘Happy-Indian.jpg’ saved [69751/69751]\n",
            "\n"
          ],
          "name": "stdout"
        }
      ]
    },
    {
      "metadata": {
        "id": "c-lafymXAX-W",
        "colab_type": "code",
        "outputId": "e5fb4c0c-3c55-4a05-ae98-fb00c1d6884f",
        "colab": {
          "base_uri": "https://localhost:8080/",
          "height": 747
        }
      },
      "cell_type": "code",
      "source": [
        "img = image.load_img(\"coco2.png\", grayscale=True, target_size=(48, 48))\n",
        "\n",
        "x = image.img_to_array(img)\n",
        "x = np.expand_dims(x, axis = 0)\n",
        "\n",
        "x /= 255\n",
        "\n",
        "custom = model.predict(x)\n",
        "emotion_analysis(custom[0])\n",
        "\n",
        "x = np.array(x, 'float32')\n",
        "x = x.reshape([48, 48]);\n",
        "\n",
        "plt.gray()\n",
        "plt.imshow(x)\n",
        "plt.show()"
      ],
      "execution_count": 0,
      "outputs": [
        {
          "output_type": "stream",
          "text": [
            "/usr/local/lib/python3.6/dist-packages/keras_preprocessing/image.py:492: UserWarning: grayscale is deprecated. Please use color_mode = \"grayscale\"\n",
            "  warnings.warn('grayscale is deprecated. Please use '\n"
          ],
          "name": "stderr"
        },
        {
          "output_type": "display_data",
          "data": {
            "image/png": "[encoded data removed]",
            "text/plain": [
              "<matplotlib.figure.Figure at 0x7f5856e6e668>"
            ]
          },
          "metadata": {
            "tags": []
          }
        },
        {
          "output_type": "display_data",
          "data": {
            "image/png": "[encoded data removed]",
            "text/plain": [
              "<matplotlib.figure.Figure at 0x7f5856b694e0>"
            ]
          },
          "metadata": {
            "tags": []
          }
        }
      ]
    },
    {
      "metadata": {
        "id": "NRIRAI_zAX7n",
        "colab_type": "code",
        "colab": {}
      },
      "cell_type": "code",
      "source": [
        ""
      ],
      "execution_count": 0,
      "outputs": []
    },
    {
      "metadata": {
        "id": "tutqH9EiAX4u",
        "colab_type": "code",
        "colab": {}
      },
      "cell_type": "code",
      "source": [
        ""
      ],
      "execution_count": 0,
      "outputs": []
    }
  ]
}
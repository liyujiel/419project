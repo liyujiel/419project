{
  "nbformat": 4,
  "nbformat_minor": 0,
  "metadata": {
    "colab": {
      "name": "419Project.ipynb",
      "version": "0.3.2",
      "provenance": [],
      "collapsed_sections": [],
      "toc_visible": true,
      "include_colab_link": true
    },
    "kernelspec": {
      "name": "python3",
      "display_name": "Python 3"
    },
    "accelerator": "GPU"
  },
  "cells": [
    {
      "cell_type": "markdown",
      "metadata": {
        "id": "view-in-github",
        "colab_type": "text"
      },
      "source": [
        "<a href=\"https://colab.research.google.com/github/liyujiel/419project/blob/master/419Project.ipynb\" target=\"_parent\"><img src=\"https://colab.research.google.com/assets/colab-badge.svg\" alt=\"Open In Colab\"/></a>"
      ]
    },
    {
      "metadata": {
        "id": "Yrd5GjAt97RZ",
        "colab_type": "text"
      },
      "cell_type": "markdown",
      "source": [
        "# CMPT419 Project"
      ]
    },
    {
      "metadata": {
        "id": "e2b9tYJSoJmM",
        "colab_type": "code",
        "outputId": "6d43c484-73e3-4218-cde6-8bb50cd617d2",
        "colab": {
          "base_uri": "https://localhost:8080/",
          "height": 54
        }
      },
      "cell_type": "code",
      "source": [
        "from google.colab import drive\n",
        "drive.mount('/content/gdrive')"
      ],
      "execution_count": 1,
      "outputs": [
        {
          "output_type": "stream",
          "text": [
            "Drive already mounted at /content/gdrive; to attempt to forcibly remount, call drive.mount(\"/content/gdrive\", force_remount=True).\n"
          ],
          "name": "stdout"
        }
      ]
    },
    {
      "metadata": {
        "colab_type": "code",
        "id": "rtpM9euFpf2M",
        "outputId": "bd447b5d-3c83-4168-9ed2-3c04125be65a",
        "colab": {
          "base_uri": "https://localhost:8080/",
          "height": 34
        }
      },
      "cell_type": "code",
      "source": [
        "import tensorflow as tf\n",
        "device_name = tf.test.gpu_device_name()\n",
        "if device_name != '/device:GPU:0':\n",
        "  raise SystemError('GPU device not found')\n",
        "print('Found GPU at: {}'.format(device_name))"
      ],
      "execution_count": 2,
      "outputs": [
        {
          "output_type": "stream",
          "text": [
            "Found GPU at: /device:GPU:0\n"
          ],
          "name": "stdout"
        }
      ]
    },
    {
      "metadata": {
        "id": "66NZWBbLErsq",
        "colab_type": "text"
      },
      "cell_type": "markdown",
      "source": [
        "### import libs"
      ]
    },
    {
      "metadata": {
        "id": "PW7WMcAjxpZ6",
        "colab_type": "code",
        "colab": {}
      },
      "cell_type": "code",
      "source": [
        "import keras\n",
        "from keras.models import Sequential, model_from_json, Input, Model\n",
        "from keras.layers import Average, MaxPool2D\n",
        "from keras.layers.core import Dense, Dropout, Activation, Flatten\n",
        "from keras.callbacks import EarlyStopping,ModelCheckpoint, TensorBoard\n",
        "from keras.layers.convolutional import Conv2D, MaxPooling2D, ZeroPadding2D, AveragePooling2D\n",
        "from keras.layers.normalization import BatchNormalization\n",
        "from keras.regularizers import l2\n",
        "\n",
        "from keras.preprocessing import image\n",
        "from keras.preprocessing.image import ImageDataGenerator\n",
        "\n",
        "import numpy as np\n",
        "import matplotlib.pyplot as plt"
      ],
      "execution_count": 0,
      "outputs": []
    },
    {
      "metadata": {
        "id": "gOFq3LWyEvht",
        "colab_type": "code",
        "colab": {}
      },
      "cell_type": "code",
      "source": [
        "sess = tf.Session(config=tf.ConfigProto(log_device_placement=True))\n",
        "sess.run(tf.global_variables_initializer())\n",
        "keras.backend.set_session(sess)"
      ],
      "execution_count": 0,
      "outputs": []
    },
    {
      "metadata": {
        "id": "KPSuG_nc-71h",
        "colab_type": "text"
      },
      "cell_type": "markdown",
      "source": [
        "## Baseline"
      ]
    },
    {
      "metadata": {
        "id": "kN9fDoAHu4HN",
        "colab_type": "text"
      },
      "cell_type": "markdown",
      "source": [
        "### Gender model"
      ]
    },
    {
      "metadata": {
        "id": "FRm7_5ZYHbQM",
        "colab_type": "code",
        "colab": {}
      },
      "cell_type": "code",
      "source": [
        "gender_model.load_weights(\"/content/gdrive/My Drive/gender_mini_XCEPTION.21-0.95.hdf5\")"
      ],
      "execution_count": 0,
      "outputs": []
    },
    {
      "metadata": {
        "id": "3F7uIDzJLWMp",
        "colab_type": "text"
      },
      "cell_type": "markdown",
      "source": [
        "### Pre-trained model"
      ]
    },
    {
      "metadata": {
        "id": "hXCJxgc3MmD4",
        "colab_type": "code",
        "colab": {}
      },
      "cell_type": "code",
      "source": [
        "def baseline_model_saved(model_name):\n",
        "    #load json and create model\n",
        "    json_file = open('{}.json'.format(model_name), 'r')\n",
        "    loaded_model_json = json_file.read()\n",
        "    json_file.close()\n",
        "    model = model_from_json(loaded_model_json)\n",
        "    #load weights from h5 file\n",
        "    model.load_weights(\"{}.h5\".format(model_name))\n",
        "    model.compile(optimizer='adam', loss='binary_crossentropy', metrics=[\"accuracy\"])\n",
        "    return model"
      ],
      "execution_count": 0,
      "outputs": []
    },
    {
      "metadata": {
        "id": "Ai5kdBlOLVJQ",
        "colab_type": "code",
        "colab": {}
      },
      "cell_type": "code",
      "source": [
        "pre_train_f = baseline_model_saved(\"/content/gdrive/My Drive/model_2layer_2_2_pool\")"
      ],
      "execution_count": 0,
      "outputs": []
    },
    {
      "metadata": {
        "id": "5riAP5aHLfbh",
        "colab_type": "code",
        "colab": {}
      },
      "cell_type": "code",
      "source": [
        "pre_train_s = baseline_model_saved(\"/content/gdrive/My Drive/model_4layer_2_2_pool\") # load pre_train model"
      ],
      "execution_count": 0,
      "outputs": []
    },
    {
      "metadata": {
        "id": "_7u9ywnQWKz3",
        "colab_type": "code",
        "colab": {}
      },
      "cell_type": "code",
      "source": [
        "from keras.utils import plot_model"
      ],
      "execution_count": 0,
      "outputs": []
    },
    {
      "metadata": {
        "id": "woMmdCZDWP7M",
        "colab_type": "code",
        "colab": {}
      },
      "cell_type": "code",
      "source": [
        "# https://pypi.python.org/pypi/pydot\n",
        "!apt-get -qq install -y graphviz && pip install -q pydot\n",
        "import pydot"
      ],
      "execution_count": 0,
      "outputs": []
    },
    {
      "metadata": {
        "id": "73mN36sDXCG1",
        "colab_type": "code",
        "colab": {}
      },
      "cell_type": "code",
      "source": [
        "!pip install -q pydot\n"
      ],
      "execution_count": 0,
      "outputs": []
    },
    {
      "metadata": {
        "id": "74eqavNdbc3X",
        "colab_type": "code",
        "colab": {
          "base_uri": "https://localhost:8080/",
          "height": 1020
        },
        "outputId": "c2b69e59-64aa-4947-a738-165cd79dfed6"
      },
      "cell_type": "code",
      "source": [
        "model = Sequential()\n",
        "\n",
        "model.add(Conv2D(64, 3, data_format=\"channels_last\", kernel_initializer=\"he_normal\", \n",
        "                 input_shape=(48, 48, 1)))\n",
        "model.add(BatchNormalization())\n",
        "model.add(Activation(\"relu\"))\n",
        "\n",
        "model.add(Conv2D(64, 3))\n",
        "model.add(BatchNormalization())\n",
        "model.add(Activation(\"relu\"))\n",
        "model.add(MaxPool2D(pool_size=(2, 2), strides=2))\n",
        "model.add(Dropout(0.6))\n",
        "\n",
        "model.add(Conv2D(32, 3))\n",
        "model.add(BatchNormalization())\n",
        "model.add(Activation(\"relu\"))\n",
        "\n",
        "model.add(Conv2D(32, 3))\n",
        "model.add(BatchNormalization())\n",
        "model.add(Activation(\"relu\"))\n",
        "\n",
        "model.add(Conv2D(32, 3))\n",
        "model.add(BatchNormalization())\n",
        "model.add(Activation(\"relu\"))\n",
        "model.add(MaxPool2D(pool_size=(2, 2), strides=2))\n",
        "model.add(Dropout(0.6))\n",
        "\n",
        "model.add(Flatten())\n",
        "model.add(Dense(128))\n",
        "model.add(BatchNormalization())\n",
        "model.add(Activation(\"relu\"))\n",
        "model.add(Dropout(0.6))\n",
        "\n",
        "model.add(Dense(7))\n",
        "model.add(Activation('softmax'))\n",
        "\n",
        "#model.compile(loss='categorical_crossentropy', optimizer='adam', metrics=['accuracy'])\n",
        "model.compile(loss='squared_hinge', optimizer='adam', metrics=['accuracy'])\n",
        "model.summary()"
      ],
      "execution_count": 20,
      "outputs": [
        {
          "output_type": "stream",
          "text": [
            "_________________________________________________________________\n",
            "Layer (type)                 Output Shape              Param #   \n",
            "=================================================================\n",
            "conv2d_3 (Conv2D)            (None, 46, 46, 64)        640       \n",
            "_________________________________________________________________\n",
            "batch_normalization_3 (Batch (None, 46, 46, 64)        256       \n",
            "_________________________________________________________________\n",
            "activation_3 (Activation)    (None, 46, 46, 64)        0         \n",
            "_________________________________________________________________\n",
            "conv2d_4 (Conv2D)            (None, 44, 44, 64)        36928     \n",
            "_________________________________________________________________\n",
            "batch_normalization_4 (Batch (None, 44, 44, 64)        256       \n",
            "_________________________________________________________________\n",
            "activation_4 (Activation)    (None, 44, 44, 64)        0         \n",
            "_________________________________________________________________\n",
            "max_pooling2d_1 (MaxPooling2 (None, 22, 22, 64)        0         \n",
            "_________________________________________________________________\n",
            "dropout_1 (Dropout)          (None, 22, 22, 64)        0         \n",
            "_________________________________________________________________\n",
            "conv2d_5 (Conv2D)            (None, 20, 20, 32)        18464     \n",
            "_________________________________________________________________\n",
            "batch_normalization_5 (Batch (None, 20, 20, 32)        128       \n",
            "_________________________________________________________________\n",
            "activation_5 (Activation)    (None, 20, 20, 32)        0         \n",
            "_________________________________________________________________\n",
            "conv2d_6 (Conv2D)            (None, 18, 18, 32)        9248      \n",
            "_________________________________________________________________\n",
            "batch_normalization_6 (Batch (None, 18, 18, 32)        128       \n",
            "_________________________________________________________________\n",
            "activation_6 (Activation)    (None, 18, 18, 32)        0         \n",
            "_________________________________________________________________\n",
            "conv2d_7 (Conv2D)            (None, 16, 16, 32)        9248      \n",
            "_________________________________________________________________\n",
            "batch_normalization_7 (Batch (None, 16, 16, 32)        128       \n",
            "_________________________________________________________________\n",
            "activation_7 (Activation)    (None, 16, 16, 32)        0         \n",
            "_________________________________________________________________\n",
            "max_pooling2d_2 (MaxPooling2 (None, 8, 8, 32)          0         \n",
            "_________________________________________________________________\n",
            "dropout_2 (Dropout)          (None, 8, 8, 32)          0         \n",
            "_________________________________________________________________\n",
            "flatten_1 (Flatten)          (None, 2048)              0         \n",
            "_________________________________________________________________\n",
            "dense_1 (Dense)              (None, 128)               262272    \n",
            "_________________________________________________________________\n",
            "batch_normalization_8 (Batch (None, 128)               512       \n",
            "_________________________________________________________________\n",
            "activation_8 (Activation)    (None, 128)               0         \n",
            "_________________________________________________________________\n",
            "dropout_3 (Dropout)          (None, 128)               0         \n",
            "_________________________________________________________________\n",
            "dense_2 (Dense)              (None, 7)                 903       \n",
            "_________________________________________________________________\n",
            "activation_9 (Activation)    (None, 7)                 0         \n",
            "=================================================================\n",
            "Total params: 339,111\n",
            "Trainable params: 338,407\n",
            "Non-trainable params: 704\n",
            "_________________________________________________________________\n"
          ],
          "name": "stdout"
        }
      ]
    },
    {
      "metadata": {
        "id": "CgY06oH5WGjb",
        "colab_type": "code",
        "colab": {}
      },
      "cell_type": "code",
      "source": [
        "plot_model(model, to_file='model.png', show_shapes=True)"
      ],
      "execution_count": 0,
      "outputs": []
    },
    {
      "metadata": {
        "id": "UljnTFHOVlUU",
        "colab_type": "code",
        "colab": {
          "base_uri": "https://localhost:8080/",
          "height": 1156
        },
        "outputId": "7626a4d0-24a0-4d93-acaf-3ce534adc46c"
      },
      "cell_type": "code",
      "source": [
        "pre_train_s.summary()"
      ],
      "execution_count": 74,
      "outputs": [
        {
          "output_type": "stream",
          "text": [
            "_________________________________________________________________\n",
            "Layer (type)                 Output Shape              Param #   \n",
            "=================================================================\n",
            "conv2d_1 (Conv2D)            (None, 48, 48, 64)        640       \n",
            "_________________________________________________________________\n",
            "batch_normalization_1 (Batch (None, 48, 48, 64)        256       \n",
            "_________________________________________________________________\n",
            "activation_1 (Activation)    (None, 48, 48, 64)        0         \n",
            "_________________________________________________________________\n",
            "max_pooling2d_1 (MaxPooling2 (None, 24, 24, 64)        0         \n",
            "_________________________________________________________________\n",
            "dropout_1 (Dropout)          (None, 24, 24, 64)        0         \n",
            "_________________________________________________________________\n",
            "conv2d_2 (Conv2D)            (None, 24, 24, 128)       204928    \n",
            "_________________________________________________________________\n",
            "batch_normalization_2 (Batch (None, 24, 24, 128)       512       \n",
            "_________________________________________________________________\n",
            "activation_2 (Activation)    (None, 24, 24, 128)       0         \n",
            "_________________________________________________________________\n",
            "max_pooling2d_2 (MaxPooling2 (None, 12, 12, 128)       0         \n",
            "_________________________________________________________________\n",
            "dropout_2 (Dropout)          (None, 12, 12, 128)       0         \n",
            "_________________________________________________________________\n",
            "conv2d_3 (Conv2D)            (None, 12, 12, 512)       590336    \n",
            "_________________________________________________________________\n",
            "batch_normalization_3 (Batch (None, 12, 12, 512)       2048      \n",
            "_________________________________________________________________\n",
            "activation_3 (Activation)    (None, 12, 12, 512)       0         \n",
            "_________________________________________________________________\n",
            "max_pooling2d_3 (MaxPooling2 (None, 6, 6, 512)         0         \n",
            "_________________________________________________________________\n",
            "dropout_3 (Dropout)          (None, 6, 6, 512)         0         \n",
            "_________________________________________________________________\n",
            "conv2d_4 (Conv2D)            (None, 6, 6, 512)         2359808   \n",
            "_________________________________________________________________\n",
            "batch_normalization_4 (Batch (None, 6, 6, 512)         2048      \n",
            "_________________________________________________________________\n",
            "activation_4 (Activation)    (None, 6, 6, 512)         0         \n",
            "_________________________________________________________________\n",
            "max_pooling2d_4 (MaxPooling2 (None, 3, 3, 512)         0         \n",
            "_________________________________________________________________\n",
            "dropout_4 (Dropout)          (None, 3, 3, 512)         0         \n",
            "_________________________________________________________________\n",
            "flatten_1 (Flatten)          (None, 4608)              0         \n",
            "_________________________________________________________________\n",
            "dense_1 (Dense)              (None, 256)               1179904   \n",
            "_________________________________________________________________\n",
            "batch_normalization_5 (Batch (None, 256)               1024      \n",
            "_________________________________________________________________\n",
            "activation_5 (Activation)    (None, 256)               0         \n",
            "_________________________________________________________________\n",
            "dropout_5 (Dropout)          (None, 256)               0         \n",
            "_________________________________________________________________\n",
            "dense_2 (Dense)              (None, 512)               131584    \n",
            "_________________________________________________________________\n",
            "batch_normalization_6 (Batch (None, 512)               2048      \n",
            "_________________________________________________________________\n",
            "activation_6 (Activation)    (None, 512)               0         \n",
            "_________________________________________________________________\n",
            "dropout_6 (Dropout)          (None, 512)               0         \n",
            "_________________________________________________________________\n",
            "dense_3 (Dense)              (None, 7)                 3591      \n",
            "=================================================================\n",
            "Total params: 4,478,727\n",
            "Trainable params: 4,474,759\n",
            "Non-trainable params: 3,968\n",
            "_________________________________________________________________\n"
          ],
          "name": "stdout"
        }
      ]
    },
    {
      "metadata": {
        "id": "W0L3MVIDE0K5",
        "colab_type": "text"
      },
      "cell_type": "markdown",
      "source": [
        "### Emotion model"
      ]
    },
    {
      "metadata": {
        "id": "kzHrdC0C-K4y",
        "colab_type": "code",
        "colab": {}
      },
      "cell_type": "code",
      "source": [
        "num_classes = 7 #angry, disgust, fear, happy, sad, surprise, neutral\n",
        "labels = [\"angry\", \"disgust\", \"fear\", \"happy\", \"sad\", \"surprise\", \"neutral\"]\n",
        "batch_size = 256\n",
        "epochs = 15"
      ],
      "execution_count": 0,
      "outputs": []
    },
    {
      "metadata": {
        "id": "AbQHooVq-K1p",
        "colab_type": "code",
        "outputId": "8785b016-1f34-4dd3-d3fb-15b1870ced9e",
        "colab": {
          "base_uri": "https://localhost:8080/",
          "height": 51
        }
      },
      "cell_type": "code",
      "source": [
        "with open(\"/content/gdrive/My Drive/fer2013.csv\") as f:\n",
        "    content = f.readlines()\n",
        "\n",
        "lines = np.array(content) \n",
        "\n",
        "num_of_instances = lines.size\n",
        "print(\"number of instances: \",num_of_instances)\n",
        "print(\"instance length: \",len(lines[1].split(\",\")[1].split(\" \")))"
      ],
      "execution_count": 6,
      "outputs": [
        {
          "output_type": "stream",
          "text": [
            "number of instances:  35888\n",
            "instance length:  2304\n"
          ],
          "name": "stdout"
        }
      ]
    },
    {
      "metadata": {
        "id": "3nYNuVJd_9kj",
        "colab_type": "text"
      },
      "cell_type": "markdown",
      "source": [
        "### initialize trainset and test set"
      ]
    },
    {
      "metadata": {
        "id": "GB42iuQi_69a",
        "colab_type": "code",
        "colab": {}
      },
      "cell_type": "code",
      "source": [
        "x_train, y_train, x_test, y_test, x_valid, y_valid = [], [], [], [], [], []"
      ],
      "execution_count": 0,
      "outputs": []
    },
    {
      "metadata": {
        "id": "bs3qsIF8_67D",
        "colab_type": "code",
        "colab": {}
      },
      "cell_type": "code",
      "source": [
        "for i in range(1,num_of_instances):\n",
        "    try:\n",
        "        emotion, img, usage = lines[i].split(\",\")\n",
        "          \n",
        "        val = img.split(\" \")\n",
        "        pixels = np.array(val, 'float32')\n",
        "\n",
        "        emotion = keras.utils.to_categorical(emotion, num_classes)\n",
        "\n",
        "        if 'Training' in usage:\n",
        "            y_train.append(emotion)\n",
        "            x_train.append(pixels)\n",
        "        elif 'PublicTest' in usage:\n",
        "            y_test.append(emotion)\n",
        "            x_test.append(pixels)\n",
        "        elif 'PrivateTest' in usage:\n",
        "            y_valid.append(emotion)\n",
        "            x_valid.append(pixels)\n",
        "\n",
        "    except:\n",
        "    \tprint(\"\",end=\"\")"
      ],
      "execution_count": 0,
      "outputs": []
    },
    {
      "metadata": {
        "id": "25Bd5QPK_66N",
        "colab_type": "code",
        "outputId": "6e1c1e2a-1b7d-4e8b-b1f7-e07e41d207a3",
        "colab": {
          "base_uri": "https://localhost:8080/",
          "height": 68
        }
      },
      "cell_type": "code",
      "source": [
        "x_train = np.array(x_train, 'float32')\n",
        "y_train = np.array(y_train, 'float32')\n",
        "x_test = np.array(x_test, 'float32')\n",
        "y_test = np.array(y_test, 'float32')\n",
        "x_valid = np.array(x_valid, 'float32')\n",
        "y_valid = np.array(y_valid, 'float32')\n",
        "\n",
        "x_train /= 255 #normalize inputs between [0, 1]\n",
        "x_test /= 255\n",
        "x_valid /= 255\n",
        "\n",
        "x_train = x_train.reshape(x_train.shape[0], 48, 48, 1)\n",
        "x_train = x_train.astype('float32')\n",
        "x_test = x_test.reshape(x_test.shape[0], 48, 48, 1)\n",
        "x_test = x_test.astype('float32')\n",
        "x_valid = x_valid.reshape(x_valid.shape[0], 48, 48, 1)\n",
        "x_valid = x_valid.astype('float32')\n",
        "\n",
        "print(x_train.shape[0], 'train samples')\n",
        "print(x_test.shape[0], 'test samples')\n",
        "print(x_valid.shape[0], 'valid samples')"
      ],
      "execution_count": 9,
      "outputs": [
        {
          "output_type": "stream",
          "text": [
            "28709 train samples\n",
            "3589 test samples\n",
            "3589 valid samples\n"
          ],
          "name": "stdout"
        }
      ]
    },
    {
      "metadata": {
        "id": "Ts7cuAc4P2L3",
        "colab_type": "code",
        "outputId": "ee6301d9-5a42-439c-b757-012d0263e5b6",
        "colab": {
          "base_uri": "https://localhost:8080/",
          "height": 34
        }
      },
      "cell_type": "code",
      "source": [
        "print(x_train.shape)"
      ],
      "execution_count": 0,
      "outputs": [
        {
          "output_type": "stream",
          "text": [
            "(28709, 48, 48, 1)\n"
          ],
          "name": "stdout"
        }
      ]
    },
    {
      "metadata": {
        "id": "rAYQ_INUP7TV",
        "colab_type": "code",
        "colab": {}
      },
      "cell_type": "code",
      "source": [
        "input_shape = x_train[0,:,:,:].shape"
      ],
      "execution_count": 0,
      "outputs": []
    },
    {
      "metadata": {
        "id": "8Zb388UlP8gQ",
        "colab_type": "code",
        "outputId": "ad85c32c-cbf3-48d2-b179-66c446531be4",
        "colab": {
          "base_uri": "https://localhost:8080/",
          "height": 34
        }
      },
      "cell_type": "code",
      "source": [
        "input_shape"
      ],
      "execution_count": 0,
      "outputs": [
        {
          "output_type": "execute_result",
          "data": {
            "text/plain": [
              "(48, 48, 1)"
            ]
          },
          "metadata": {
            "tags": []
          },
          "execution_count": 66
        }
      ]
    },
    {
      "metadata": {
        "id": "xS9TgnqANxaa",
        "colab_type": "code",
        "colab": {}
      },
      "cell_type": "code",
      "source": [
        "model_input = Input(shape=input_shape)"
      ],
      "execution_count": 0,
      "outputs": []
    },
    {
      "metadata": {
        "id": "vmLnozk2E_UX",
        "colab_type": "code",
        "colab": {}
      },
      "cell_type": "code",
      "source": [
        "# m_x_train, m_y_train, m_x_test, m_y_test, m_x_valid, m_y_valid = [], [], [], [], [], []"
      ],
      "execution_count": 0,
      "outputs": []
    },
    {
      "metadata": {
        "id": "mspS05TZE_JA",
        "colab_type": "code",
        "colab": {}
      },
      "cell_type": "code",
      "source": [
        "# f_x_train, f_y_train, f_x_test, f_y_test, f_x_valid, f_y_valid = [], [], [], [], [], []"
      ],
      "execution_count": 0,
      "outputs": []
    },
    {
      "metadata": {
        "id": "VQW_-cg9Pios",
        "colab_type": "code",
        "colab": {}
      },
      "cell_type": "code",
      "source": [
        "# import cv2"
      ],
      "execution_count": 0,
      "outputs": []
    },
    {
      "metadata": {
        "id": "mkqbK_vSE_FJ",
        "colab_type": "code",
        "colab": {}
      },
      "cell_type": "code",
      "source": [
        "for i in range(0,len(x_train)):\n",
        "    per_x_train = x_train[i]\n",
        "    per_y_train = y_train[i]\n",
        "    per_x_train = cv2.resize(per_x_train,(64,64),1)\n",
        "    per_x_train = per_x_train.reshape(1, 64, 64, -1)\n",
        "    print(gender_model.predict(per_x_train))\n",
        "    if gender_model.predict(per_x_train)[0][0] >= 0.5:\n",
        "        m_x_train.append(per_x_train)\n",
        "    else:\n",
        "        f_x_train.append(per_x_train)   "
      ],
      "execution_count": 0,
      "outputs": []
    },
    {
      "metadata": {
        "id": "skiawFPjFzG8",
        "colab_type": "code",
        "colab": {}
      },
      "cell_type": "code",
      "source": [
        "for per_y_train in y_train:\n",
        "    if gender_model.predict(per_y_train)[0] == 1:\n",
        "        m_y_train.append(per_y_train)\n",
        "    else:\n",
        "        f_y_train.append(per_y_train)"
      ],
      "execution_count": 0,
      "outputs": []
    },
    {
      "metadata": {
        "id": "KmYoRDVkFyj0",
        "colab_type": "code",
        "colab": {}
      },
      "cell_type": "code",
      "source": [
        "for per_x_test in x_test:\n",
        "    if gender_model.predict(per_x_test)[0] == 1:\n",
        "        m_x_test.append(per_x_test)\n",
        "    else:\n",
        "        f_x_test.append(per_x_test)  "
      ],
      "execution_count": 0,
      "outputs": []
    },
    {
      "metadata": {
        "id": "NPu2ZlQLFyfO",
        "colab_type": "code",
        "colab": {}
      },
      "cell_type": "code",
      "source": [
        "for per_y_test in y_test:\n",
        "    if gender_model.predict(per_y_test)[0] == 1:\n",
        "        m_y_test.append(per_y_test)\n",
        "    else:\n",
        "        f_y_test.append(per_y_test)  "
      ],
      "execution_count": 0,
      "outputs": []
    },
    {
      "metadata": {
        "id": "5nSP1LDMGhYB",
        "colab_type": "code",
        "colab": {}
      },
      "cell_type": "code",
      "source": [
        "for per_x_valid in x_valid:\n",
        "    if gender_model.predict(per_x_valid)[0] == 1:\n",
        "        m_x_valid.append(per_x_valid)\n",
        "    else:\n",
        "        f_x_valid.append(per_x_valid)  "
      ],
      "execution_count": 0,
      "outputs": []
    },
    {
      "metadata": {
        "id": "f6zCMibbGhUZ",
        "colab_type": "code",
        "colab": {}
      },
      "cell_type": "code",
      "source": [
        "for per_y_valid in y_valid:\n",
        "    if gender_model.predict(per_y_valid)[0] == 1:\n",
        "        m_y_valid.append(per_y_valid)\n",
        "    else:\n",
        "        f_y_valid.append(per_y_valid)  "
      ],
      "execution_count": 0,
      "outputs": []
    },
    {
      "metadata": {
        "id": "s4dRC1i8G1k2",
        "colab_type": "code",
        "colab": {}
      },
      "cell_type": "code",
      "source": [
        "m_x_train = np.array(m_x_train, 'float32')\n",
        "m_y_train = np.array(m_y_train, 'float32')\n",
        "m_x_test = np.array(m_x_test, 'float32')\n",
        "m_y_test = np.array(m_y_test, 'float32')\n",
        "m_x_valid = np.array(m_x_valid, 'float32')\n",
        "m_y_valid = np.array(m_y_valid, 'float32')\n",
        "\n",
        "f_x_train = np.array(f_x_train, 'float32')\n",
        "f_y_train = np.array(f_y_train, 'float32')\n",
        "f_x_test = np.array(f_x_test, 'float32')\n",
        "f_y_test = np.array(f_y_test, 'float32')\n",
        "f_x_valid = np.array(f_x_valid, 'float32')\n",
        "f_y_valid = np.array(f_y_valid, 'float32')"
      ],
      "execution_count": 0,
      "outputs": []
    },
    {
      "metadata": {
        "id": "kG6h1Ws4nQqU",
        "colab_type": "code",
        "colab": {}
      },
      "cell_type": "code",
      "source": [
        "valid = (x_valid, y_valid)"
      ],
      "execution_count": 0,
      "outputs": []
    },
    {
      "metadata": {
        "id": "Q6jDxoV52VS7",
        "colab_type": "text"
      },
      "cell_type": "markdown",
      "source": [
        "### Baseline Net"
      ]
    },
    {
      "metadata": {
        "id": "4vORZLnX_62d",
        "colab_type": "code",
        "colab": {}
      },
      "cell_type": "code",
      "source": [
        "def base_cnn_model(img_shape=(48, 48, 1), n_classes=7):\n",
        "    #construct CNN structure\n",
        "    model = Sequential()\n",
        "\n",
        "    #1st convolution layer\n",
        "    model.add(Conv2D(64, (5, 5), activation='relu', input_shape=img_shape))\n",
        "    model.add(MaxPooling2D(pool_size=(5,5), strides=(2, 2)))\n",
        "\n",
        "    #2nd convolution layer\n",
        "    model.add(Conv2D(64, (3, 3), activation='relu'))\n",
        "    model.add(Conv2D(64, (3, 3), activation='relu'))\n",
        "    model.add(AveragePooling2D(pool_size=(3,3), strides=(2, 2)))\n",
        "\n",
        "    #3rd convolution layer\n",
        "    model.add(Conv2D(128, (3, 3), activation='relu'))\n",
        "    model.add(Conv2D(128, (3, 3), activation='relu'))\n",
        "    model.add(AveragePooling2D(pool_size=(3,3), strides=(2, 2)))\n",
        "\n",
        "    model.add(Flatten())\n",
        "\n",
        "    #fully connected neural networks\n",
        "    model.add(Dense(1024, activation='relu'))\n",
        "    model.add(Dropout(0.2))\n",
        "    model.add(Dense(1024, activation='relu'))\n",
        "    model.add(Dropout(0.2))\n",
        "\n",
        "    model.add(Dense(n_classes, activation='softmax'))\n",
        "    \n",
        "    return model"
      ],
      "execution_count": 0,
      "outputs": []
    },
    {
      "metadata": {
        "id": "W3OgjufxcFDI",
        "colab_type": "code",
        "colab": {}
      },
      "cell_type": "code",
      "source": [
        "# model = base_cnn_model()"
      ],
      "execution_count": 0,
      "outputs": []
    },
    {
      "metadata": {
        "id": "TKorh7aC2cRb",
        "colab_type": "text"
      },
      "cell_type": "markdown",
      "source": [
        "### AlexNet"
      ]
    },
    {
      "metadata": {
        "id": "Ht5rwmPf20ty",
        "colab_type": "code",
        "colab": {}
      },
      "cell_type": "code",
      "source": [
        "def alexnet_model(img_shape=(48, 48, 1), n_classes=7, l2_reg=0.1,\n",
        "\tweights=None):\n",
        "\n",
        "\t# Initialize model\n",
        "\talexnet = Sequential()\n",
        "\n",
        "\t# Layer 1\n",
        "\talexnet.add(Conv2D(96, (11, 11), input_shape=img_shape,\n",
        "\t\tpadding='same', kernel_regularizer=l2(l2_reg)))\n",
        "\talexnet.add(BatchNormalization())\n",
        "\talexnet.add(Activation('relu'))\n",
        "\talexnet.add(MaxPooling2D(pool_size=(2, 2)))\n",
        "\n",
        "\t# Layer 2\n",
        "\talexnet.add(Conv2D(256, (5, 5), padding='same'))\n",
        "\talexnet.add(BatchNormalization())\n",
        "\talexnet.add(Activation('relu'))\n",
        "\talexnet.add(MaxPooling2D(pool_size=(2, 2)))\n",
        "\n",
        "\t# Layer 3\n",
        "\talexnet.add(ZeroPadding2D((1, 1)))\n",
        "\talexnet.add(Conv2D(512, (3, 3), padding='same'))\n",
        "\talexnet.add(BatchNormalization())\n",
        "\talexnet.add(Activation('relu'))\n",
        "\talexnet.add(MaxPooling2D(pool_size=(2, 2)))\n",
        "\n",
        "\t# Layer 4\n",
        "\talexnet.add(ZeroPadding2D((1, 1)))\n",
        "\talexnet.add(Conv2D(1024, (3, 3), padding='same'))\n",
        "\talexnet.add(BatchNormalization())\n",
        "\talexnet.add(Activation('relu'))\n",
        "\n",
        "\t# Layer 5\n",
        "\talexnet.add(ZeroPadding2D((1, 1)))\n",
        "\talexnet.add(Conv2D(1024, (3, 3), padding='same'))\n",
        "\talexnet.add(BatchNormalization())\n",
        "\talexnet.add(Activation('relu'))\n",
        "\talexnet.add(MaxPooling2D(pool_size=(2, 2)))\n",
        "\n",
        "\t# Layer 6\n",
        "\talexnet.add(Flatten())\n",
        "\talexnet.add(Dense(3072))\n",
        "\talexnet.add(BatchNormalization())\n",
        "\talexnet.add(Activation('relu'))\n",
        "\talexnet.add(Dropout(0.5))\n",
        "\n",
        "\t# Layer 7\n",
        "\talexnet.add(Dense(4096))\n",
        "\talexnet.add(BatchNormalization())\n",
        "\talexnet.add(Activation('relu'))\n",
        "\talexnet.add(Dropout(0.5))\n",
        "\n",
        "\t# Layer 8\n",
        "\talexnet.add(Dense(n_classes))\n",
        "\talexnet.add(BatchNormalization())\n",
        "\talexnet.add(Activation('softmax'))\n",
        "\n",
        "\tif weights is not None:\n",
        "\t\talexnet.load_weights(weights)\n",
        "\n",
        "\treturn alexnet"
      ],
      "execution_count": 0,
      "outputs": []
    },
    {
      "metadata": {
        "id": "FmUZi7_GHNXL",
        "colab_type": "code",
        "colab": {}
      },
      "cell_type": "code",
      "source": [
        "model = alexnet_model()"
      ],
      "execution_count": 0,
      "outputs": []
    },
    {
      "metadata": {
        "id": "bOCx_iBCnLGR",
        "colab_type": "text"
      },
      "cell_type": "markdown",
      "source": [
        "### ResNet50"
      ]
    },
    {
      "metadata": {
        "id": "zooD9aSKqMgZ",
        "colab_type": "code",
        "colab": {}
      },
      "cell_type": "code",
      "source": [
        "# from keras import applications"
      ],
      "execution_count": 0,
      "outputs": []
    },
    {
      "metadata": {
        "id": "U75fQkkdqgM6",
        "colab_type": "code",
        "colab": {}
      },
      "cell_type": "code",
      "source": [
        "# model = keras.applications.resnet50.ResNet50(include_top=True, weights=None, input_tensor=None, input_shape=(48, 48, 1), pooling=None, classes=7)"
      ],
      "execution_count": 0,
      "outputs": []
    },
    {
      "metadata": {
        "id": "BGQ6kzVmHJK4",
        "colab_type": "text"
      },
      "cell_type": "markdown",
      "source": [
        "### VGG19"
      ]
    },
    {
      "metadata": {
        "id": "HOQL4Qxhq7Et",
        "colab_type": "code",
        "colab": {}
      },
      "cell_type": "code",
      "source": [
        "def vgg19_model(img_shape=(48, 48, 1), n_classes=7, l2_reg=0.1,\n",
        "\tweights=None):\n",
        "\n",
        "\t# Initialize model\n",
        "\tvgg19 = Sequential()\n",
        "\n",
        "\t# Layer 1 & 2\n",
        "\tvgg19.add(Conv2D(64, (3, 3), padding='same',\n",
        "\t\tinput_shape=img_shape, kernel_regularizer=l2(l2_reg)))\n",
        "\tvgg19.add(Activation('relu'))\n",
        "\tvgg19.add(ZeroPadding2D((1, 1)))\n",
        "\tvgg19.add(Conv2D(64, (3, 3), padding='same'))\n",
        "\tvgg19.add(Activation('relu'))\n",
        "\tvgg19.add(MaxPooling2D(pool_size=(2, 2)))\n",
        "\n",
        "\t# Layer 3 & 4\n",
        "\tvgg19.add(ZeroPadding2D((1, 1)))\n",
        "\tvgg19.add(Conv2D(128, (3, 3), padding='same'))\n",
        "\tvgg19.add(Activation('relu'))\n",
        "\tvgg19.add(ZeroPadding2D((1, 1)))\n",
        "\tvgg19.add(Conv2D(128, (3, 3), padding='same'))\n",
        "\tvgg19.add(Activation('relu'))\n",
        "\tvgg19.add(MaxPooling2D(pool_size=(2, 2)))\n",
        "\n",
        "\t# Layer 5, 6, 7, & 8\n",
        "\tvgg19.add(ZeroPadding2D((1, 1)))\n",
        "\tvgg19.add(Conv2D(256, (3, 3), padding='same'))\n",
        "\tvgg19.add(Activation('relu'))\n",
        "\tvgg19.add(ZeroPadding2D((1, 1)))\n",
        "\tvgg19.add(Conv2D(256, (3, 3), padding='same'))\n",
        "\tvgg19.add(Activation('relu'))\n",
        "\tvgg19.add(ZeroPadding2D((1, 1)))\n",
        "\tvgg19.add(Conv2D(256, (3, 3), padding='same'))\n",
        "\tvgg19.add(Activation('relu'))\n",
        "\tvgg19.add(ZeroPadding2D((1, 1)))\n",
        "\tvgg19.add(Conv2D(256, (3, 3), padding='same'))\n",
        "\tvgg19.add(Activation('relu'))\n",
        "\tvgg19.add(MaxPooling2D(pool_size=(2, 2)))\n",
        "\n",
        "\t# Layers 9, 10, 11, & 12\n",
        "\tvgg19.add(ZeroPadding2D((1, 1)))\n",
        "\tvgg19.add(Conv2D(512, (3, 3), padding='same'))\n",
        "\tvgg19.add(Activation('relu'))\n",
        "\tvgg19.add(ZeroPadding2D((1, 1)))\n",
        "\tvgg19.add(Conv2D(512, (3, 3), padding='same'))\n",
        "\tvgg19.add(Activation('relu'))\n",
        "\tvgg19.add(ZeroPadding2D((1, 1)))\n",
        "\tvgg19.add(Conv2D(512, (3, 3), padding='same'))\n",
        "\tvgg19.add(Activation('relu'))\n",
        "\tvgg19.add(ZeroPadding2D((1, 1)))\n",
        "\tvgg19.add(Conv2D(512, (3, 3), padding='same'))\n",
        "\tvgg19.add(Activation('relu'))\n",
        "\tvgg19.add(MaxPooling2D(pool_size=(2, 2)))\n",
        "\n",
        "\t# Layers 13, 14, 15, & 16\n",
        "\tvgg19.add(ZeroPadding2D((1, 1)))\n",
        "\tvgg19.add(Conv2D(512, (3, 3), padding='same'))\n",
        "\tvgg19.add(Activation('relu'))\n",
        "\tvgg19.add(ZeroPadding2D((1, 1)))\n",
        "\tvgg19.add(Conv2D(512, (3, 3), padding='same'))\n",
        "\tvgg19.add(Activation('relu'))\n",
        "\tvgg19.add(ZeroPadding2D((1, 1)))\n",
        "\tvgg19.add(Conv2D(512, (3, 3), padding='same'))\n",
        "\tvgg19.add(Activation('relu'))\n",
        "\tvgg19.add(ZeroPadding2D((1, 1)))\n",
        "\tvgg19.add(Conv2D(512, (3, 3), padding='same'))\n",
        "\tvgg19.add(Activation('relu'))\n",
        "\tvgg19.add(MaxPooling2D(pool_size=(2, 2)))\n",
        "\n",
        "\t# Layers 17, 18, & 19\n",
        "\tvgg19.add(Flatten())\n",
        "\tvgg19.add(Dense(4096))\n",
        "\tvgg19.add(Activation('relu'))\n",
        "\tvgg19.add(Dropout(0.5))\n",
        "\tvgg19.add(Dense(4096))\n",
        "\tvgg19.add(Activation('relu'))\n",
        "\tvgg19.add(Dropout(0.5))\n",
        "\tvgg19.add(Dense(n_classes))\n",
        "\tvgg19.add(Activation('softmax'))\n",
        "\n",
        "\tif weights is not None:\n",
        "\t\tvgg19.load_weights(weights)\n",
        "\n",
        "\treturn vgg19"
      ],
      "execution_count": 0,
      "outputs": []
    },
    {
      "metadata": {
        "id": "NxmtoOZL8DL0",
        "colab_type": "code",
        "colab": {}
      },
      "cell_type": "code",
      "source": [
        "# model = vgg19_model()"
      ],
      "execution_count": 0,
      "outputs": []
    },
    {
      "metadata": {
        "id": "UhAxipS_YCy9",
        "colab_type": "text"
      },
      "cell_type": "markdown",
      "source": [
        "### VGG16"
      ]
    },
    {
      "metadata": {
        "id": "lxc2HAn1YCTZ",
        "colab_type": "code",
        "colab": {}
      },
      "cell_type": "code",
      "source": [
        "# model = keras.applications.vgg16.VGG16(include_top=True, weights=None, input_tensor=None, input_shape=(48,48,1), pooling=None, classes=7)"
      ],
      "execution_count": 0,
      "outputs": []
    },
    {
      "metadata": {
        "id": "-T_oq0rJ_Ekz",
        "colab_type": "text"
      },
      "cell_type": "markdown",
      "source": [
        "### Model init"
      ]
    },
    {
      "metadata": {
        "id": "bAfmN3uC_6zq",
        "colab_type": "code",
        "colab": {}
      },
      "cell_type": "code",
      "source": [
        "#batch process\n",
        "gen = ImageDataGenerator()\n",
        "train_generator = gen.flow(x_train, y_train, batch_size=batch_size)"
      ],
      "execution_count": 0,
      "outputs": []
    },
    {
      "metadata": {
        "id": "N6odbVHuAdRL",
        "colab_type": "code",
        "colab": {}
      },
      "cell_type": "code",
      "source": [
        "filepath=\"/content/gdrive/My Drive/weights_base_new_opt.best.hdf5\"\n",
        "checkpoint = ModelCheckpoint(filepath, monitor='val_acc', verbose=1, save_best_only=True, mode='max')"
      ],
      "execution_count": 0,
      "outputs": []
    },
    {
      "metadata": {
        "id": "6t9TMnEqTwap",
        "colab_type": "code",
        "colab": {}
      },
      "cell_type": "code",
      "source": [
        ""
      ],
      "execution_count": 0,
      "outputs": []
    },
    {
      "metadata": {
        "id": "ZrEcAZIdALPA",
        "colab_type": "code",
        "outputId": "e596e740-d8f0-4fc9-b139-77efde91ef61",
        "colab": {
          "base_uri": "https://localhost:8080/",
          "height": 215
        }
      },
      "cell_type": "code",
      "source": [
        "model.compile(loss='categorical_crossentropy'\n",
        "    , optimizer=keras.optimizers.Adam()\n",
        "    , metrics=['accuracy']\n",
        ")"
      ],
      "execution_count": 0,
      "outputs": [
        {
          "output_type": "error",
          "ename": "NameError",
          "evalue": "ignored",
          "traceback": [
            "\u001b[0;31m---------------------------------------------------------------------------\u001b[0m",
            "\u001b[0;31mNameError\u001b[0m                                 Traceback (most recent call last)",
            "\u001b[0;32m<ipython-input-16-8c6fee90c7c5>\u001b[0m in \u001b[0;36m<module>\u001b[0;34m()\u001b[0m\n\u001b[0;32m----> 1\u001b[0;31m model.compile(loss='categorical_crossentropy'\n\u001b[0m\u001b[1;32m      2\u001b[0m     \u001b[0;34m,\u001b[0m \u001b[0moptimizer\u001b[0m\u001b[0;34m=\u001b[0m\u001b[0mkeras\u001b[0m\u001b[0;34m.\u001b[0m\u001b[0moptimizers\u001b[0m\u001b[0;34m.\u001b[0m\u001b[0mAdam\u001b[0m\u001b[0;34m(\u001b[0m\u001b[0;34m)\u001b[0m\u001b[0;34m\u001b[0m\u001b[0;34m\u001b[0m\u001b[0m\n\u001b[1;32m      3\u001b[0m     \u001b[0;34m,\u001b[0m \u001b[0mmetrics\u001b[0m\u001b[0;34m=\u001b[0m\u001b[0;34m[\u001b[0m\u001b[0;34m'accuracy'\u001b[0m\u001b[0;34m]\u001b[0m\u001b[0;34m\u001b[0m\u001b[0;34m\u001b[0m\u001b[0m\n\u001b[1;32m      4\u001b[0m )\n",
            "\u001b[0;31mNameError\u001b[0m: name 'model' is not defined"
          ]
        }
      ]
    },
    {
      "metadata": {
        "id": "uSOfnGivK_NA",
        "colab_type": "code",
        "colab": {}
      },
      "cell_type": "code",
      "source": [
        "tbCallBack = TensorBoard(log_dir='./log', histogram_freq=1,\n",
        "                         write_graph=True,\n",
        "                         write_grads=True,\n",
        "                         batch_size=batch_size,\n",
        "                         write_images=True)"
      ],
      "execution_count": 0,
      "outputs": []
    },
    {
      "metadata": {
        "id": "qU1WZYYvwDwd",
        "colab_type": "code",
        "colab": {}
      },
      "cell_type": "code",
      "source": [
        "model = keras.models.load_model(\"/content/gdrive/My Drive/weights_base.best.hdf5\") # 99% acc"
      ],
      "execution_count": 0,
      "outputs": []
    },
    {
      "metadata": {
        "id": "x82vInNkxzyk",
        "colab_type": "text"
      },
      "cell_type": "markdown",
      "source": [
        "### TPU model"
      ]
    },
    {
      "metadata": {
        "id": "I2P7C1pC05RK",
        "colab_type": "code",
        "colab": {}
      },
      "cell_type": "code",
      "source": [
        "# tf.keras.backend.clear_session()"
      ],
      "execution_count": 0,
      "outputs": []
    },
    {
      "metadata": {
        "id": "90zw0lm8xq25",
        "colab_type": "code",
        "colab": {}
      },
      "cell_type": "code",
      "source": [
        "# tpu_model = tf.contrib.tpu.keras_support.tpu_model(\n",
        "#     model,\n",
        "#     strategy=tf.contrib.tpu.TPUDistributionStrategy(\n",
        "#         tf.contrib.cluster_resolver.TPUClusterResolver(TPU_WORKER)))"
      ],
      "execution_count": 0,
      "outputs": []
    },
    {
      "metadata": {
        "id": "OwJ7cejZx3T0",
        "colab_type": "text"
      },
      "cell_type": "markdown",
      "source": [
        "### Train model"
      ]
    },
    {
      "metadata": {
        "id": "Wse_wzO8ALMV",
        "colab_type": "code",
        "colab": {}
      },
      "cell_type": "code",
      "source": [
        "fit = False\n",
        "\n",
        "if fit == True:\n",
        "\t#model.fit_generator(x_train, y_train, epochs=epochs) #train for all trainset\n",
        "\tmodel.fit_generator(train_generator, validation_data=valid, steps_per_epoch=batch_size, epochs=epochs, callbacks=[checkpoint, tensor_board]) #train for randomly selected one\n",
        "else:\n",
        "\tmodel.load_weights('/content/gdrive/My Drive/alex_net_epoch25.h5') #load weights"
      ],
      "execution_count": 0,
      "outputs": []
    },
    {
      "metadata": {
        "id": "vz3W-EjbRE3A",
        "colab_type": "code",
        "outputId": "d4b7da1f-61c8-4f40-cd5b-8ce50de25dbf",
        "colab": {
          "base_uri": "https://localhost:8080/",
          "height": 34
        }
      },
      "cell_type": "code",
      "source": [
        "model_input"
      ],
      "execution_count": 0,
      "outputs": [
        {
          "output_type": "execute_result",
          "data": {
            "text/plain": [
              "<tf.Tensor 'input_9:0' shape=(?, 48, 48, 1) dtype=float32>"
            ]
          },
          "metadata": {
            "tags": []
          },
          "execution_count": 70
        }
      ]
    },
    {
      "metadata": {
        "id": "k_HewBrXNS3u",
        "colab_type": "code",
        "colab": {}
      },
      "cell_type": "code",
      "source": [
        "models = [model, pre_train_f, pre_train_s]"
      ],
      "execution_count": 0,
      "outputs": []
    },
    {
      "metadata": {
        "id": "8xcBhbl9TG_L",
        "colab_type": "code",
        "colab": {}
      },
      "cell_type": "code",
      "source": [
        "from keras import layers"
      ],
      "execution_count": 0,
      "outputs": []
    },
    {
      "metadata": {
        "id": "ehb_rCvhNSzh",
        "colab_type": "code",
        "outputId": "5a2a1e9d-4ad3-494c-c1fc-ad0f7ec6c8e8",
        "colab": {
          "base_uri": "https://localhost:8080/",
          "height": 793
        }
      },
      "cell_type": "code",
      "source": [
        "def ensemble(models, model_input):\n",
        "    \n",
        "    outputs = [model(model_input) for model in models]\n",
        "\n",
        "    y = layers.average(outputs) \n",
        "    \n",
        "    model = Model(model_input, y, name='ensemble')\n",
        "    \n",
        "    return model\n",
        "\n",
        "ensemble_model = ensemble(models, model_input)"
      ],
      "execution_count": 70,
      "outputs": [
        {
          "output_type": "error",
          "ename": "ValueError",
          "evalue": "ignored",
          "traceback": [
            "\u001b[0;31m---------------------------------------------------------------------------\u001b[0m",
            "\u001b[0;31mValueError\u001b[0m                                Traceback (most recent call last)",
            "\u001b[0;32m<ipython-input-70-bdc317777f43>\u001b[0m in \u001b[0;36m<module>\u001b[0;34m()\u001b[0m\n\u001b[1;32m      9\u001b[0m     \u001b[0;32mreturn\u001b[0m \u001b[0mmodel\u001b[0m\u001b[0;34m\u001b[0m\u001b[0;34m\u001b[0m\u001b[0m\n\u001b[1;32m     10\u001b[0m \u001b[0;34m\u001b[0m\u001b[0m\n\u001b[0;32m---> 11\u001b[0;31m \u001b[0mensemble_model\u001b[0m \u001b[0;34m=\u001b[0m \u001b[0mensemble\u001b[0m\u001b[0;34m(\u001b[0m\u001b[0mmodels\u001b[0m\u001b[0;34m,\u001b[0m \u001b[0mmodel_input\u001b[0m\u001b[0;34m)\u001b[0m\u001b[0;34m\u001b[0m\u001b[0;34m\u001b[0m\u001b[0m\n\u001b[0m",
            "\u001b[0;32m<ipython-input-70-bdc317777f43>\u001b[0m in \u001b[0;36mensemble\u001b[0;34m(models, model_input)\u001b[0m\n\u001b[1;32m      5\u001b[0m     \u001b[0my\u001b[0m \u001b[0;34m=\u001b[0m \u001b[0mlayers\u001b[0m\u001b[0;34m.\u001b[0m\u001b[0maverage\u001b[0m\u001b[0;34m(\u001b[0m\u001b[0moutputs\u001b[0m\u001b[0;34m)\u001b[0m\u001b[0;34m\u001b[0m\u001b[0;34m\u001b[0m\u001b[0m\n\u001b[1;32m      6\u001b[0m \u001b[0;34m\u001b[0m\u001b[0m\n\u001b[0;32m----> 7\u001b[0;31m     \u001b[0mmodel\u001b[0m \u001b[0;34m=\u001b[0m \u001b[0mModel\u001b[0m\u001b[0;34m(\u001b[0m\u001b[0mmodel_input\u001b[0m\u001b[0;34m,\u001b[0m \u001b[0my\u001b[0m\u001b[0;34m,\u001b[0m \u001b[0mname\u001b[0m\u001b[0;34m=\u001b[0m\u001b[0;34m'semble'\u001b[0m\u001b[0;34m)\u001b[0m\u001b[0;34m\u001b[0m\u001b[0;34m\u001b[0m\u001b[0m\n\u001b[0m\u001b[1;32m      8\u001b[0m \u001b[0;34m\u001b[0m\u001b[0m\n\u001b[1;32m      9\u001b[0m     \u001b[0;32mreturn\u001b[0m \u001b[0mmodel\u001b[0m\u001b[0;34m\u001b[0m\u001b[0;34m\u001b[0m\u001b[0m\n",
            "\u001b[0;32m/usr/local/lib/python3.6/dist-packages/keras/legacy/interfaces.py\u001b[0m in \u001b[0;36mwrapper\u001b[0;34m(*args, **kwargs)\u001b[0m\n\u001b[1;32m     89\u001b[0m                 warnings.warn('Update your `' + object_name + '` call to the ' +\n\u001b[1;32m     90\u001b[0m                               'Keras 2 API: ' + signature, stacklevel=2)\n\u001b[0;32m---> 91\u001b[0;31m             \u001b[0;32mreturn\u001b[0m \u001b[0mfunc\u001b[0m\u001b[0;34m(\u001b[0m\u001b[0;34m*\u001b[0m\u001b[0margs\u001b[0m\u001b[0;34m,\u001b[0m \u001b[0;34m**\u001b[0m\u001b[0mkwargs\u001b[0m\u001b[0;34m)\u001b[0m\u001b[0;34m\u001b[0m\u001b[0;34m\u001b[0m\u001b[0m\n\u001b[0m\u001b[1;32m     92\u001b[0m         \u001b[0mwrapper\u001b[0m\u001b[0;34m.\u001b[0m\u001b[0m_original_function\u001b[0m \u001b[0;34m=\u001b[0m \u001b[0mfunc\u001b[0m\u001b[0;34m\u001b[0m\u001b[0;34m\u001b[0m\u001b[0m\n\u001b[1;32m     93\u001b[0m         \u001b[0;32mreturn\u001b[0m \u001b[0mwrapper\u001b[0m\u001b[0;34m\u001b[0m\u001b[0;34m\u001b[0m\u001b[0m\n",
            "\u001b[0;32m/usr/local/lib/python3.6/dist-packages/keras/engine/network.py\u001b[0m in \u001b[0;36m__init__\u001b[0;34m(self, *args, **kwargs)\u001b[0m\n\u001b[1;32m     91\u001b[0m                 'inputs' in kwargs and 'outputs' in kwargs):\n\u001b[1;32m     92\u001b[0m             \u001b[0;31m# Graph network\u001b[0m\u001b[0;34m\u001b[0m\u001b[0;34m\u001b[0m\u001b[0;34m\u001b[0m\u001b[0m\n\u001b[0;32m---> 93\u001b[0;31m             \u001b[0mself\u001b[0m\u001b[0;34m.\u001b[0m\u001b[0m_init_graph_network\u001b[0m\u001b[0;34m(\u001b[0m\u001b[0;34m*\u001b[0m\u001b[0margs\u001b[0m\u001b[0;34m,\u001b[0m \u001b[0;34m**\u001b[0m\u001b[0mkwargs\u001b[0m\u001b[0;34m)\u001b[0m\u001b[0;34m\u001b[0m\u001b[0;34m\u001b[0m\u001b[0m\n\u001b[0m\u001b[1;32m     94\u001b[0m         \u001b[0;32melse\u001b[0m\u001b[0;34m:\u001b[0m\u001b[0;34m\u001b[0m\u001b[0;34m\u001b[0m\u001b[0m\n\u001b[1;32m     95\u001b[0m             \u001b[0;31m# Subclassed network\u001b[0m\u001b[0;34m\u001b[0m\u001b[0;34m\u001b[0m\u001b[0;34m\u001b[0m\u001b[0m\n",
            "\u001b[0;32m/usr/local/lib/python3.6/dist-packages/keras/engine/network.py\u001b[0m in \u001b[0;36m_init_graph_network\u001b[0;34m(self, inputs, outputs, name)\u001b[0m\n\u001b[1;32m    229\u001b[0m         \u001b[0;31m# Keep track of the network's nodes and layers.\u001b[0m\u001b[0;34m\u001b[0m\u001b[0;34m\u001b[0m\u001b[0;34m\u001b[0m\u001b[0m\n\u001b[1;32m    230\u001b[0m         nodes, nodes_by_depth, layers, layers_by_depth = _map_graph_network(\n\u001b[0;32m--> 231\u001b[0;31m             self.inputs, self.outputs)\n\u001b[0m\u001b[1;32m    232\u001b[0m         \u001b[0mself\u001b[0m\u001b[0;34m.\u001b[0m\u001b[0m_network_nodes\u001b[0m \u001b[0;34m=\u001b[0m \u001b[0mnodes\u001b[0m\u001b[0;34m\u001b[0m\u001b[0;34m\u001b[0m\u001b[0m\n\u001b[1;32m    233\u001b[0m         \u001b[0mself\u001b[0m\u001b[0;34m.\u001b[0m\u001b[0m_nodes_by_depth\u001b[0m \u001b[0;34m=\u001b[0m \u001b[0mnodes_by_depth\u001b[0m\u001b[0;34m\u001b[0m\u001b[0;34m\u001b[0m\u001b[0m\n",
            "\u001b[0;32m/usr/local/lib/python3.6/dist-packages/keras/engine/network.py\u001b[0m in \u001b[0;36m_map_graph_network\u001b[0;34m(inputs, outputs)\u001b[0m\n\u001b[1;32m   1453\u001b[0m             raise ValueError('The name \"' + name + '\" is used ' +\n\u001b[1;32m   1454\u001b[0m                              \u001b[0mstr\u001b[0m\u001b[0;34m(\u001b[0m\u001b[0mall_names\u001b[0m\u001b[0;34m.\u001b[0m\u001b[0mcount\u001b[0m\u001b[0;34m(\u001b[0m\u001b[0mname\u001b[0m\u001b[0;34m)\u001b[0m\u001b[0;34m)\u001b[0m \u001b[0;34m+\u001b[0m\u001b[0;34m\u001b[0m\u001b[0;34m\u001b[0m\u001b[0m\n\u001b[0;32m-> 1455\u001b[0;31m                              \u001b[0;34m' times in the model. '\u001b[0m\u001b[0;34m\u001b[0m\u001b[0;34m\u001b[0m\u001b[0m\n\u001b[0m\u001b[1;32m   1456\u001b[0m                              'All layer names should be unique.')\n\u001b[1;32m   1457\u001b[0m     \u001b[0;32mreturn\u001b[0m \u001b[0mnetwork_nodes\u001b[0m\u001b[0;34m,\u001b[0m \u001b[0mnodes_by_depth\u001b[0m\u001b[0;34m,\u001b[0m \u001b[0mlayers\u001b[0m\u001b[0;34m,\u001b[0m \u001b[0mlayers_by_depth\u001b[0m\u001b[0;34m\u001b[0m\u001b[0;34m\u001b[0m\u001b[0m\n",
            "\u001b[0;31mValueError\u001b[0m: The name \"sequential_1\" is used 2 times in the model. All layer names should be unique."
          ]
        }
      ]
    },
    {
      "metadata": {
        "id": "5L36ZP7LThW6",
        "colab_type": "code",
        "outputId": "973b2645-700c-4f70-8d00-fd9613534962",
        "colab": {
          "base_uri": "https://localhost:8080/",
          "height": 34
        }
      },
      "cell_type": "code",
      "source": [
        "print(ensemble_model)"
      ],
      "execution_count": 0,
      "outputs": [
        {
          "output_type": "stream",
          "text": [
            "<keras.engine.training.Model object at 0x7fc70244c898>\n"
          ],
          "name": "stdout"
        }
      ]
    },
    {
      "metadata": {
        "id": "O9bwdkXOT-wa",
        "colab_type": "code",
        "colab": {}
      },
      "cell_type": "code",
      "source": [
        "ensemble_model.compile(loss='categorical_crossentropy'\n",
        "    , optimizer=keras.optimizers.Adam()\n",
        "    , metrics=['accuracy']\n",
        ")"
      ],
      "execution_count": 0,
      "outputs": []
    },
    {
      "metadata": {
        "id": "ZDxo0pkQUEal",
        "colab_type": "code",
        "outputId": "73e98a4d-ff06-4e35-a254-520d8f861e56",
        "colab": {
          "base_uri": "https://localhost:8080/",
          "height": 1074
        }
      },
      "cell_type": "code",
      "source": [
        "best_model.fit_generator(train_generator, validation_data=valid, steps_per_epoch=batch_size, epochs=epochs, callbacks=[checkpoint]) #train for randomly selected one"
      ],
      "execution_count": 33,
      "outputs": [
        {
          "output_type": "stream",
          "text": [
            "Epoch 1/15\n",
            "256/256 [==============================] - 222s 866ms/step - loss: 0.0078 - acc: 0.9970 - val_loss: 2.5201 - val_acc: 0.5272\n",
            "\n",
            "Epoch 00001: val_acc did not improve from 0.61215\n",
            "Epoch 2/15\n",
            "256/256 [==============================] - 222s 867ms/step - loss: 0.0847 - acc: 0.9720 - val_loss: 1.8328 - val_acc: 0.5704\n",
            "\n",
            "Epoch 00002: val_acc did not improve from 0.61215\n",
            "Epoch 3/15\n",
            "256/256 [==============================] - 221s 865ms/step - loss: 0.0158 - acc: 0.9948 - val_loss: 2.0212 - val_acc: 0.6124\n",
            "\n",
            "Epoch 00003: val_acc improved from 0.61215 to 0.61243, saving model to /content/gdrive/My Drive/weights_base.best.hdf5\n",
            "Epoch 4/15\n",
            "256/256 [==============================] - 221s 865ms/step - loss: 0.0067 - acc: 0.9974 - val_loss: 2.0024 - val_acc: 0.6127\n",
            "\n",
            "Epoch 00004: val_acc improved from 0.61243 to 0.61271, saving model to /content/gdrive/My Drive/weights_base.best.hdf5\n",
            "Epoch 5/15\n",
            "256/256 [==============================] - 222s 865ms/step - loss: 0.0051 - acc: 0.9978 - val_loss: 2.0497 - val_acc: 0.6105\n",
            "\n",
            "Epoch 00005: val_acc did not improve from 0.61271\n",
            "Epoch 6/15\n",
            "256/256 [==============================] - 222s 866ms/step - loss: 0.0050 - acc: 0.9973 - val_loss: 2.0552 - val_acc: 0.6138\n",
            "\n",
            "Epoch 00006: val_acc improved from 0.61271 to 0.61382, saving model to /content/gdrive/My Drive/weights_base.best.hdf5\n",
            "Epoch 7/15\n",
            "256/256 [==============================] - 221s 864ms/step - loss: 0.0047 - acc: 0.9975 - val_loss: 2.0628 - val_acc: 0.6102\n",
            "\n",
            "Epoch 00007: val_acc did not improve from 0.61382\n",
            "Epoch 8/15\n",
            "256/256 [==============================] - 222s 866ms/step - loss: 0.0047 - acc: 0.9976 - val_loss: 2.0932 - val_acc: 0.6177\n",
            "\n",
            "Epoch 00008: val_acc improved from 0.61382 to 0.61772, saving model to /content/gdrive/My Drive/weights_base.best.hdf5\n",
            "Epoch 9/15\n",
            "256/256 [==============================] - 222s 866ms/step - loss: 0.0048 - acc: 0.9973 - val_loss: 2.0839 - val_acc: 0.6116\n",
            "\n",
            "Epoch 00009: val_acc did not improve from 0.61772\n",
            "Epoch 10/15\n",
            "256/256 [==============================] - 222s 866ms/step - loss: 0.0143 - acc: 0.9952 - val_loss: 2.6912 - val_acc: 0.4943\n",
            "\n",
            "Epoch 00010: val_acc did not improve from 0.61772\n",
            "Epoch 11/15\n",
            "256/256 [==============================] - 221s 863ms/step - loss: 0.0440 - acc: 0.9850 - val_loss: 2.2318 - val_acc: 0.5782\n",
            "\n",
            "Epoch 00011: val_acc did not improve from 0.61772\n",
            "Epoch 12/15\n",
            "256/256 [==============================] - 221s 865ms/step - loss: 0.0190 - acc: 0.9941 - val_loss: 2.1244 - val_acc: 0.5982\n",
            "\n",
            "Epoch 00012: val_acc did not improve from 0.61772\n",
            "Epoch 13/15\n",
            "256/256 [==============================] - 221s 864ms/step - loss: 0.0067 - acc: 0.9974 - val_loss: 2.1193 - val_acc: 0.6085\n",
            "\n",
            "Epoch 00013: val_acc did not improve from 0.61772\n",
            "Epoch 14/15\n",
            "256/256 [==============================] - 221s 864ms/step - loss: 0.0174 - acc: 0.9939 - val_loss: 2.1646 - val_acc: 0.6002\n",
            "\n",
            "Epoch 00014: val_acc did not improve from 0.61772\n",
            "Epoch 15/15\n",
            "256/256 [==============================] - 221s 863ms/step - loss: 0.0090 - acc: 0.9967 - val_loss: 2.5467 - val_acc: 0.5561\n",
            "\n",
            "Epoch 00015: val_acc did not improve from 0.61772\n"
          ],
          "name": "stdout"
        },
        {
          "output_type": "execute_result",
          "data": {
            "text/plain": [
              "<keras.callbacks.History at 0x7fe47648b400>"
            ]
          },
          "metadata": {
            "tags": []
          },
          "execution_count": 33
        }
      ]
    },
    {
      "metadata": {
        "id": "BdhKIyXYiCNQ",
        "colab_type": "code",
        "colab": {}
      },
      "cell_type": "code",
      "source": [
        "best_model = keras.models.load_model(\"/content/gdrive/My Drive/weights_base.best.hdf5\")"
      ],
      "execution_count": 0,
      "outputs": []
    },
    {
      "metadata": {
        "id": "nW3Beb7q8qK1",
        "colab_type": "code",
        "colab": {
          "base_uri": "https://localhost:8080/",
          "height": 136
        },
        "outputId": "af20b422-6628-4bb1-f633-d3995ff4b3ad"
      },
      "cell_type": "code",
      "source": [
        "y_prob = best_model.predict(x_test)\n",
        "y_pred = best_model.predict_classes(x_test)\n",
        "y_test_true = [ np.argmax(item) for item in y_test]\n",
        "from sklearn.metrics import confusion_matrix\n",
        "confusion_matrix(y_test_true, y_pred)"
      ],
      "execution_count": 71,
      "outputs": [
        {
          "output_type": "execute_result",
          "data": {
            "text/plain": [
              "array([[256,   3,  53,  29,  78,  10,  38],\n",
              "       [ 17,  27,   3,   3,   2,   0,   4],\n",
              "       [ 53,   2, 212,  24, 105,  29,  71],\n",
              "       [ 34,   1,  25, 702,  48,  19,  66],\n",
              "       [ 91,   1,  76,  50, 340,  10,  85],\n",
              "       [ 17,   0,  42,  18,  10, 309,  19],\n",
              "       [ 73,   1,  53,  56, 116,   4, 304]])"
            ]
          },
          "metadata": {
            "tags": []
          },
          "execution_count": 71
        }
      ]
    },
    {
      "metadata": {
        "id": "VU-BOyZbLyjV",
        "colab_type": "code",
        "colab": {}
      },
      "cell_type": "code",
      "source": [
        "labels = ['Angry', 'Disgust','Fear', 'Happy', 'Sad', 'Surprise', 'Neutral']\n",
        "#0=Angry, 1=Disgust, 2=Fear, 3=Happy, 4=Sad, 5=Surprise, 6=Neutral\n",
        "import matplotlib.pyplot as plt\n",
        "import matplotlib\n",
        "def plot_confusion_matrix(y_true, y_pred, cmap=plt.cm.Blues):\n",
        "    cm = confusion_matrix(y_true, y_pred)\n",
        "    fig = plt.figure(figsize=(7,7))\n",
        "    matplotlib.rcParams.update({'font.size': 16})\n",
        "    ax  = fig.add_subplot(111)\n",
        "    matrix = ax.imshow(cm, interpolation='nearest', cmap=cmap)\n",
        "    fig.colorbar(matrix) \n",
        "    for i in range(0,7):\n",
        "        for j in range(0,7):  \n",
        "            ax.text(j,i,cm[i,j],va='center', ha='center')\n",
        "    # ax.set_title('Confusion Matrix')\n",
        "    ticks = np.arange(len(labels))\n",
        "    ax.set_xticks(ticks)\n",
        "    ax.set_xticklabels(labels, rotation=45)\n",
        "    ax.set_yticks(ticks)\n",
        "    ax.set_yticklabels(labels)\n",
        "    ax.grid(False)\n",
        "    plt.tight_layout()\n",
        "    plt.ylabel('True label')\n",
        "    plt.xlabel('Predicted label')"
      ],
      "execution_count": 0,
      "outputs": []
    },
    {
      "metadata": {
        "id": "WGNOKeYFL1G8",
        "colab_type": "code",
        "colab": {
          "base_uri": "https://localhost:8080/",
          "height": 500
        },
        "outputId": "c858bcfb-ea64-4daa-8532-3aa87dd60e09"
      },
      "cell_type": "code",
      "source": [
        "plot_confusion_matrix(y_test_true, y_pred, cmap=plt.cm.OrRd)"
      ],
      "execution_count": 73,
      "outputs": [
        {
          "output_type": "display_data",
          "data": {
            "image/png": "[encoded data removed]",
            "text/plain": [
              "<matplotlib.figure.Figure at 0x7f06d7819d30>"
            ]
          },
          "metadata": {
            "tags": []
          }
        }
      ]
    },
    {
      "metadata": {
        "id": "9Xgj84H3iRso",
        "colab_type": "code",
        "outputId": "2bb2beec-3a53-483b-bcc5-330839bc2a82",
        "colab": {
          "base_uri": "https://localhost:8080/",
          "height": 68
        }
      },
      "cell_type": "code",
      "source": [
        "score = best_model.evaluate(x_test, y_test)\n",
        "print('Test loss:', score[0])\n",
        "print('Test accuracy:', 100*score[1])"
      ],
      "execution_count": 12,
      "outputs": [
        {
          "output_type": "stream",
          "text": [
            "3589/3589 [==============================] - 10s 3ms/step\n",
            "Test loss: 2.1044667149759264\n",
            "Test accuracy: 59.905266091248286\n"
          ],
          "name": "stdout"
        }
      ]
    },
    {
      "metadata": {
        "id": "-1laTJX9ALJy",
        "colab_type": "code",
        "colab": {}
      },
      "cell_type": "code",
      "source": [
        "y_pred = best_model.predict(x_test)"
      ],
      "execution_count": 0,
      "outputs": []
    },
    {
      "metadata": {
        "id": "1D9abwgwze9l",
        "colab_type": "code",
        "colab": {}
      },
      "cell_type": "code",
      "source": [
        "y_true = [np.argmax(true) for true in y_test]\n",
        "y_pred_true = [np.argmax(true) for true in y_pred]\n",
        "accs = list()\n",
        "precs = list()\n",
        "recalls = list()"
      ],
      "execution_count": 0,
      "outputs": []
    },
    {
      "metadata": {
        "id": "8R_trqyEZtIr",
        "colab_type": "code",
        "colab": {}
      },
      "cell_type": "code",
      "source": [
        "from sklearn.metrics import confusion_matrix"
      ],
      "execution_count": 0,
      "outputs": []
    },
    {
      "metadata": {
        "id": "3nrp7jQkXKD_",
        "colab_type": "code",
        "colab": {}
      },
      "cell_type": "code",
      "source": [
        "def class_precision(y_true, y_pred, emotion):\n",
        "    cm = confusion_matrix(y_true, y_pred)\n",
        "    i = [i for i, label in enumerate(labels) if label == emotion][0]\n",
        "    col = [cm[j,i] for j in range(0,len(labels))]\n",
        "    return float(col[i])/sum(col)\n",
        "\n",
        "def class_recall(y_true, y_pred, emotion):\n",
        "    cm = confusion_matrix(y_true, y_pred)\n",
        "    i = [i for i, label in enumerate(labels) if label == emotion][0]\n",
        "    row = [cm[i,j] for j in range(0,len(labels))]\n",
        "    return float(row[i])/sum(row)\n",
        "\n",
        "def class_accuracy(y_true, y_pred, emotion):\n",
        "    cm = confusion_matrix(y_true, y_pred)\n",
        "    i = [i for i, label in enumerate(labels) if label == emotion][0]\n",
        "    tp = cm[i,i]\n",
        "    fn = sum([cm[i,j] for j in range(0,6) if j != i])\n",
        "    fp = sum([cm[j,i] for j in range(0,6) if j != i])\n",
        "    tn = sum([cm[i,j] for j in range(0,6) for i in range(0,6)]) -(tp+fp+fn)\n",
        "    return float(tp + tn)/sum([tp, fn, fp, tn])"
      ],
      "execution_count": 0,
      "outputs": []
    },
    {
      "metadata": {
        "id": "BXGzgF_cB3Zl",
        "colab_type": "code",
        "colab": {}
      },
      "cell_type": "code",
      "source": [
        "from sklearn.metrics import precision_score, recall_score"
      ],
      "execution_count": 0,
      "outputs": []
    },
    {
      "metadata": {
        "id": "MlIXMNkuD3gx",
        "colab_type": "code",
        "colab": {
          "base_uri": "https://localhost:8080/",
          "height": 34
        },
        "outputId": "4b6752b0-87e0-4de4-a27b-ee2e173b35b2"
      },
      "cell_type": "code",
      "source": [
        "recall_score(y_true, y_pred_true, average='weighted')"
      ],
      "execution_count": 58,
      "outputs": [
        {
          "output_type": "execute_result",
          "data": {
            "text/plain": [
              "0.599052660908331"
            ]
          },
          "metadata": {
            "tags": []
          },
          "execution_count": 58
        }
      ]
    },
    {
      "metadata": {
        "id": "s4LK8whsA34N",
        "colab_type": "code",
        "colab": {}
      },
      "cell_type": "code",
      "source": [
        "def prec_precision(y_true, y_pred_true):\n",
        "    return precision_score(y_true, y_pred_true, average='macro')\n",
        "    "
      ],
      "execution_count": 0,
      "outputs": []
    },
    {
      "metadata": {
        "id": "qj2YhRA2B8CP",
        "colab_type": "code",
        "colab": {
          "base_uri": "https://localhost:8080/",
          "height": 34
        },
        "outputId": "58b245ed-5ac1-4b03-f01e-0be869f3fd9c"
      },
      "cell_type": "code",
      "source": [
        "prec_precision(y_true, y_pred_true)"
      ],
      "execution_count": 53,
      "outputs": [
        {
          "output_type": "execute_result",
          "data": {
            "text/plain": [
              "0.6161088020362141"
            ]
          },
          "metadata": {
            "tags": []
          },
          "execution_count": 53
        }
      ]
    },
    {
      "metadata": {
        "id": "xH_isQU8AE4E",
        "colab_type": "code",
        "colab": {}
      },
      "cell_type": "code",
      "source": [
        "def prec_acc(y_true, y_pred_true):\n",
        "    count = 0\n",
        "    for i in range(0, len(y_true)):\n",
        "        if y_true[i] == y_pred_true[i]:\n",
        "            count += 1\n",
        "    return count/len(y_true)"
      ],
      "execution_count": 0,
      "outputs": []
    },
    {
      "metadata": {
        "id": "-P0KoOjYAsOP",
        "colab_type": "code",
        "colab": {
          "base_uri": "https://localhost:8080/",
          "height": 34
        },
        "outputId": "0882ff34-e5b5-4232-f949-0d127202896e"
      },
      "cell_type": "code",
      "source": [
        "prec_acc(y_true, y_pred_true)"
      ],
      "execution_count": 25,
      "outputs": [
        {
          "output_type": "execute_result",
          "data": {
            "text/plain": [
              "0.599052660908331"
            ]
          },
          "metadata": {
            "tags": []
          },
          "execution_count": 25
        }
      ]
    },
    {
      "metadata": {
        "id": "hqL9tECd5haw",
        "colab_type": "code",
        "colab": {}
      },
      "cell_type": "code",
      "source": [
        "plot_vals = list()"
      ],
      "execution_count": 0,
      "outputs": []
    },
    {
      "metadata": {
        "id": "0M0TTdYwXLqf",
        "colab_type": "code",
        "colab": {
          "base_uri": "https://localhost:8080/",
          "height": 612
        },
        "outputId": "b879cd92-f1c7-4ee5-ddef-814220e4dcb5"
      },
      "cell_type": "code",
      "source": [
        "for emotion in labels:\n",
        "    print(emotion.upper())\n",
        "    acc = class_accuracy(y_true, y_pred_true, emotion)\n",
        "    acc_list = ['acc', emotion, acc]\n",
        "    prec = class_precision(y_true, y_pred_true, emotion)\n",
        "    prec_list = ['prec', emotion, prec]\n",
        "    recall = class_recall(y_true, y_pred_true, emotion)\n",
        "    recall_list = ['recall', emotion, recall]\n",
        "    plot_vals.append(acc_list)\n",
        "    plot_vals.append(prec_list)\n",
        "    plot_vals.append(recall_list)\n",
        "    print('   acc = {}'.format(acc))\n",
        "    print('  prec = {}'.format(prec))\n",
        "    print('recall = {}\\n'.format(recall))"
      ],
      "execution_count": 134,
      "outputs": [
        {
          "output_type": "stream",
          "text": [
            "ANGRY\n",
            "   acc = 0.8573545757688033\n",
            "  prec = 0.4731977818853974\n",
            "recall = 0.5481798715203426\n",
            "\n",
            "DISGUST\n",
            "   acc = 0.9881437569470174\n",
            "  prec = 0.7714285714285715\n",
            "recall = 0.48214285714285715\n",
            "\n",
            "FEAR\n",
            "   acc = 0.8473508706928492\n",
            "  prec = 0.45689655172413796\n",
            "recall = 0.4274193548387097\n",
            "\n",
            "HAPPY\n",
            "   acc = 0.9070025935531678\n",
            "  prec = 0.7959183673469388\n",
            "recall = 0.7843575418994413\n",
            "\n",
            "SAD\n",
            "   acc = 0.8254909225639125\n",
            "  prec = 0.4864091559370529\n",
            "recall = 0.5206738131699847\n",
            "\n",
            "SURPRISE\n",
            "   acc = 0.9425713227121156\n",
            "  prec = 0.8110236220472441\n",
            "recall = 0.744578313253012\n",
            "\n",
            "NEUTRAL\n",
            "   acc = 0.7828825490922564\n",
            "  prec = 0.5178875638841567\n",
            "recall = 0.500823723228995\n",
            "\n"
          ],
          "name": "stdout"
        }
      ]
    },
    {
      "metadata": {
        "id": "oYyzWhDKy5qj",
        "colab_type": "code",
        "colab": {
          "base_uri": "https://localhost:8080/",
          "height": 136
        },
        "outputId": "76be2e89-059c-41c2-d1ca-0b2a6f25cac4"
      },
      "cell_type": "code",
      "source": [
        "precs"
      ],
      "execution_count": 86,
      "outputs": [
        {
          "output_type": "execute_result",
          "data": {
            "text/plain": [
              "[0.4731977818853974,\n",
              " 0.7714285714285715,\n",
              " 0.45689655172413796,\n",
              " 0.7959183673469388,\n",
              " 0.4864091559370529,\n",
              " 0.8110236220472441,\n",
              " 0.5178875638841567]"
            ]
          },
          "metadata": {
            "tags": []
          },
          "execution_count": 86
        }
      ]
    },
    {
      "metadata": {
        "id": "B-jWO4Tu3AhS",
        "colab_type": "code",
        "colab": {}
      },
      "cell_type": "code",
      "source": [
        "%matplotlib inline"
      ],
      "execution_count": 0,
      "outputs": []
    },
    {
      "metadata": {
        "id": "JqJIv3YT3WfI",
        "colab_type": "code",
        "colab": {
          "base_uri": "https://localhost:8080/",
          "height": 374
        },
        "outputId": "0219ef1f-a90a-40ad-d557-634fd500cf65"
      },
      "cell_type": "code",
      "source": [
        "plot_vals"
      ],
      "execution_count": 135,
      "outputs": [
        {
          "output_type": "execute_result",
          "data": {
            "text/plain": [
              "[['acc', 'angry', 0.8573545757688033],\n",
              " ['prec', 'angry', 0.4731977818853974],\n",
              " ['recall', 'angry', 0.5481798715203426],\n",
              " ['acc', 'disgust', 0.9881437569470174],\n",
              " ['prec', 'disgust', 0.7714285714285715],\n",
              " ['recall', 'disgust', 0.48214285714285715],\n",
              " ['acc', 'fear', 0.8473508706928492],\n",
              " ['prec', 'fear', 0.45689655172413796],\n",
              " ['recall', 'fear', 0.4274193548387097],\n",
              " ['acc', 'happy', 0.9070025935531678],\n",
              " ['prec', 'happy', 0.7959183673469388],\n",
              " ['recall', 'happy', 0.7843575418994413],\n",
              " ['acc', 'sad', 0.8254909225639125],\n",
              " ['prec', 'sad', 0.4864091559370529],\n",
              " ['recall', 'sad', 0.5206738131699847],\n",
              " ['acc', 'surprise', 0.9425713227121156],\n",
              " ['prec', 'surprise', 0.8110236220472441],\n",
              " ['recall', 'surprise', 0.744578313253012],\n",
              " ['acc', 'neutral', 0.7828825490922564],\n",
              " ['prec', 'neutral', 0.5178875638841567],\n",
              " ['recall', 'neutral', 0.500823723228995]]"
            ]
          },
          "metadata": {
            "tags": []
          },
          "execution_count": 135
        }
      ]
    },
    {
      "metadata": {
        "id": "YwtVS9bP5HxF",
        "colab_type": "code",
        "colab": {}
      },
      "cell_type": "code",
      "source": [
        "import pandas as pd"
      ],
      "execution_count": 0,
      "outputs": []
    },
    {
      "metadata": {
        "id": "GhX1JnCJ3OU1",
        "colab_type": "code",
        "colab": {
          "base_uri": "https://localhost:8080/",
          "height": 305
        },
        "outputId": "332af26c-cdcc-4e8c-ef47-27b0e342e1ea"
      },
      "cell_type": "code",
      "source": [
        "df = pd.DataFrame(plot_vals, columns=['','emtions','percentage'])\n",
        "\n",
        "pivot = df.pivot(\"emtions\", \"\", \"percentage\")\n",
        "\n",
        "pivot.plot(kind='bar', color=['lightskyblue', 'orange', 'forestgreen'])\n",
        "\n",
        "plt.legend(bbox_to_anchor=(1.05, 1), loc=2, borderaxespad=0.)\n",
        "plt.show()"
      ],
      "execution_count": 153,
      "outputs": [
        {
          "output_type": "display_data",
          "data": {
            "image/png": "[encoded data removed]",
            "text/plain": [
              "<matplotlib.figure.Figure at 0x7fe470fbde48>"
            ]
          },
          "metadata": {
            "tags": []
          }
        }
      ]
    },
    {
      "metadata": {
        "id": "JhY61eWdZVtk",
        "colab_type": "code",
        "colab": {
          "base_uri": "https://localhost:8080/",
          "height": 364
        },
        "outputId": "88730f51-d2a4-48ef-b7c1-d83674050ac1"
      },
      "cell_type": "code",
      "source": [
        "x = np.arange(num_classes)\n",
        "plt.hist((accs, precs, recalls), label = (\"acc\", \"prec\", \"recall\"))\n",
        "plt.legend()\n",
        "\n",
        "# labels\n",
        "# plt.xticks(x, tuple(labels))"
      ],
      "execution_count": 73,
      "outputs": [
        {
          "output_type": "execute_result",
          "data": {
            "text/plain": [
              "<matplotlib.legend.Legend at 0x7fe4727b1a20>"
            ]
          },
          "metadata": {
            "tags": []
          },
          "execution_count": 73
        },
        {
          "output_type": "display_data",
          "data": {
            "image/png": "[encoded data removed]",
            "text/plain": [
              "<matplotlib.figure.Figure at 0x7fe4727b1be0>"
            ]
          },
          "metadata": {
            "tags": []
          }
        }
      ]
    },
    {
      "metadata": {
        "id": "avZLwEJEi8pb",
        "colab_type": "code",
        "outputId": "904dace4-1e52-4d39-f75a-a77ad3ceb77e",
        "colab": {
          "base_uri": "https://localhost:8080/",
          "height": 68
        }
      },
      "cell_type": "code",
      "source": [
        "!npm install -g localtunnel"
      ],
      "execution_count": 0,
      "outputs": [
        {
          "output_type": "stream",
          "text": [
            "\u001b[K\u001b[?25h/tools/node/bin/lt -> /tools/node/lib/node_modules/localtunnel/bin/client\n",
            "\u001b[K\u001b[?25h+ localtunnel@1.9.1\n",
            "added 54 packages from 32 contributors in 2.808s\n"
          ],
          "name": "stdout"
        }
      ]
    },
    {
      "metadata": {
        "id": "dR4F-SFEi8hy",
        "colab_type": "code",
        "colab": {}
      },
      "cell_type": "code",
      "source": [
        "LOG_DIR = './log'\n",
        "get_ipython().system_raw(\n",
        "    'tensorboard --logdir {} --host 0.0.0.0 --port 6006 &'\n",
        "    .format(LOG_DIR)\n",
        ")"
      ],
      "execution_count": 0,
      "outputs": []
    },
    {
      "metadata": {
        "id": "daDDXbT8i8ap",
        "colab_type": "code",
        "colab": {}
      },
      "cell_type": "code",
      "source": [
        "get_ipython().system_raw('./ngrok http 6006 &')\n"
      ],
      "execution_count": 0,
      "outputs": []
    },
    {
      "metadata": {
        "id": "0Z4f7OoIjBg8",
        "colab_type": "code",
        "outputId": "a11fab33-d027-40b2-9070-f30a52c92ad7",
        "colab": {
          "base_uri": "https://localhost:8080/",
          "height": 238
        }
      },
      "cell_type": "code",
      "source": [
        "! wget https://bin.equinox.io/c/4VmDzA7iaHb/ngrok-stable-linux-amd64.zip\n",
        "! unzip ngrok-stable-linux-amd64.zip"
      ],
      "execution_count": 0,
      "outputs": [
        {
          "output_type": "stream",
          "text": [
            "--2018-12-09 02:37:22--  https://bin.equinox.io/c/4VmDzA7iaHb/ngrok-stable-linux-amd64.zip\n",
            "Resolving bin.equinox.io (bin.equinox.io)... 52.202.60.111, 52.55.191.55, 52.201.75.180, ...\n",
            "Connecting to bin.equinox.io (bin.equinox.io)|52.202.60.111|:443... connected.\n",
            "HTTP request sent, awaiting response... 200 OK\n",
            "Length: 5363700 (5.1M) [application/octet-stream]\n",
            "Saving to: ‘ngrok-stable-linux-amd64.zip’\n",
            "\n",
            "ngrok-stable-linux- 100%[===================>]   5.11M  3.53MB/s    in 1.5s    \n",
            "\n",
            "2018-12-09 02:37:25 (3.53 MB/s) - ‘ngrok-stable-linux-amd64.zip’ saved [5363700/5363700]\n",
            "\n",
            "Archive:  ngrok-stable-linux-amd64.zip\n",
            "  inflating: ngrok                   \n"
          ],
          "name": "stdout"
        }
      ]
    },
    {
      "metadata": {
        "id": "dE7rN34w074a",
        "colab_type": "code",
        "outputId": "ff28eb1f-c69d-4ca9-b1bf-97d691598eff",
        "colab": {
          "base_uri": "https://localhost:8080/",
          "height": 34
        }
      },
      "cell_type": "code",
      "source": [
        "! curl -s http://localhost:4040/api/tunnels | python3 -c \\\n",
        "    \"import sys, json; print(json.load(sys.stdin)['tunnels'][0]['public_url'])\""
      ],
      "execution_count": 0,
      "outputs": [
        {
          "output_type": "stream",
          "text": [
            "http://da497423.ngrok.io\n"
          ],
          "name": "stdout"
        }
      ]
    },
    {
      "metadata": {
        "id": "b-c2L0Q1jDlj",
        "colab_type": "code",
        "colab": {}
      },
      "cell_type": "code",
      "source": [
        "rm -r '/content/gdrive/My Drive/419Project.tbgraph'"
      ],
      "execution_count": 0,
      "outputs": []
    },
    {
      "metadata": {
        "id": "0Z-Y0tcnBXN9",
        "colab_type": "code",
        "colab": {}
      },
      "cell_type": "code",
      "source": [
        "y_classes"
      ],
      "execution_count": 0,
      "outputs": []
    },
    {
      "metadata": {
        "id": "5jeRekm1_kTN",
        "colab_type": "code",
        "colab": {}
      },
      "cell_type": "code",
      "source": [
        "score = model.predict(x_test)\n",
        "y_classes = score.argmax(axis=-1)"
      ],
      "execution_count": 0,
      "outputs": []
    },
    {
      "metadata": {
        "id": "Kayh7PT5CsUo",
        "colab_type": "code",
        "colab": {}
      },
      "cell_type": "code",
      "source": [
        "model.save('/content/gdrive/My Drive/alexnet_epoch15_batch256.h5')"
      ],
      "execution_count": 0,
      "outputs": []
    },
    {
      "metadata": {
        "id": "rgVlAXS3ALHQ",
        "colab_type": "code",
        "colab": {}
      },
      "cell_type": "code",
      "source": [
        "def emotion_analysis(emotions):\n",
        "    objects = ('angry', 'disgust', 'fear', 'happy', 'sad', 'surprise', 'neutral')\n",
        "    y_pos = np.arange(len(objects))\n",
        "    \n",
        "    plt.bar(y_pos, emotions, align='center', alpha=0.5)\n",
        "    plt.xticks(y_pos, objects)\n",
        "    plt.ylabel('percentage')\n",
        "    plt.title('emotion')\n",
        "    \n",
        "    plt.show()\n"
      ],
      "execution_count": 0,
      "outputs": []
    },
    {
      "metadata": {
        "id": "hYhMPW3vAYBM",
        "colab_type": "code",
        "colab": {}
      },
      "cell_type": "code",
      "source": [
        "monitor_testset_results = False\n",
        "\n",
        "if monitor_testset_results == True:\n",
        "\t#make predictions for test set\n",
        "\tpredictions = model.predict(x_test)\n",
        "\n",
        "\tindex = 0\n",
        "\tfor i in predictions:\n",
        "\t\tif index < 30 and index >= 20:\n",
        "\t\t\t#print(i) #predicted scores\n",
        "\t\t\t#print(y_test[index]) #actual scores\n",
        "\t\t\t\n",
        "\t\t\ttesting_img = np.array(x_test[index], 'float32')\n",
        "\t\t\ttesting_img = testing_img.reshape([48, 48]);\n",
        "\t\t\t\n",
        "\t\t\tplt.gray()\n",
        "\t\t\tplt.imshow(testing_img)\n",
        "\t\t\tplt.show()\n",
        "\t\t\t\n",
        "\t\t\tprint(i)\n",
        "\t\t\t\n",
        "\t\t\temotion_analysis(i)\n",
        "\t\t\tprint(\"----------------------------------------------\")\n",
        "\t\tindex = index + 1"
      ],
      "execution_count": 0,
      "outputs": []
    },
    {
      "metadata": {
        "id": "vXUROIc0AcQj",
        "colab_type": "text"
      },
      "cell_type": "markdown",
      "source": [
        "### Test Picture"
      ]
    },
    {
      "metadata": {
        "id": "tIF4WBot0RXf",
        "colab_type": "code",
        "outputId": "85b5cde2-2d0f-463e-9d72-bc06491e610f",
        "colab": {
          "base_uri": "https://localhost:8080/",
          "height": 204
        }
      },
      "cell_type": "code",
      "source": [
        "!wget https://nricafe.com/wp-content/uploads/2015/09/Happy-Indian.jpg"
      ],
      "execution_count": 0,
      "outputs": [
        {
          "output_type": "stream",
          "text": [
            "--2018-12-04 06:20:36--  https://nricafe.com/wp-content/uploads/2015/09/Happy-Indian.jpg\n",
            "Resolving nricafe.com (nricafe.com)... 104.27.184.42, 104.27.185.42, 2606:4700:30::681b:b92a, ...\n",
            "Connecting to nricafe.com (nricafe.com)|104.27.184.42|:443... connected.\n",
            "HTTP request sent, awaiting response... 200 OK\n",
            "Length: 69751 (68K) [image/jpeg]\n",
            "Saving to: ‘Happy-Indian.jpg’\n",
            "\n",
            "\rHappy-Indian.jpg      0%[                    ]       0  --.-KB/s               \rHappy-Indian.jpg    100%[===================>]  68.12K  --.-KB/s    in 0.007s  \n",
            "\n",
            "2018-12-04 06:20:37 (8.93 MB/s) - ‘Happy-Indian.jpg’ saved [69751/69751]\n",
            "\n"
          ],
          "name": "stdout"
        }
      ]
    },
    {
      "metadata": {
        "id": "c-lafymXAX-W",
        "colab_type": "code",
        "outputId": "7ccae9da-4034-4265-c394-f05469608efa",
        "colab": {
          "base_uri": "https://localhost:8080/",
          "height": 747
        }
      },
      "cell_type": "code",
      "source": [
        "img = image.load_img(\"Happy-Indian.jpg\", grayscale=True, target_size=(48, 48))\n",
        "\n",
        "x = image.img_to_array(img)\n",
        "x = np.expand_dims(x, axis = 0)\n",
        "\n",
        "x /= 255\n",
        "\n",
        "custom = model.predict(x)\n",
        "emotion_analysis(custom[0])\n",
        "\n",
        "x = np.array(x, 'float32')\n",
        "x = x.reshape([48, 48]);\n",
        "\n",
        "plt.gray()\n",
        "plt.imshow(x)\n",
        "plt.show()"
      ],
      "execution_count": 0,
      "outputs": [
        {
          "output_type": "stream",
          "text": [
            "/usr/local/lib/python3.6/dist-packages/keras_preprocessing/image.py:492: UserWarning: grayscale is deprecated. Please use color_mode = \"grayscale\"\n",
            "  warnings.warn('grayscale is deprecated. Please use '\n"
          ],
          "name": "stderr"
        },
        {
          "output_type": "display_data",
          "data": {
            "image/png": "[encoded data removed]",
            "text/plain": [
              "<matplotlib.figure.Figure at 0x7f7b4e7f9fd0>"
            ]
          },
          "metadata": {
            "tags": []
          }
        },
        {
          "output_type": "display_data",
          "data": {
            "image/png": "[encoded data removed]",
            "text/plain": [
              "<matplotlib.figure.Figure at 0x7f7b4e766b38>"
            ]
          },
          "metadata": {
            "tags": []
          }
        }
      ]
    },
    {
      "metadata": {
        "id": "NRIRAI_zAX7n",
        "colab_type": "code",
        "colab": {}
      },
      "cell_type": "code",
      "source": [
        ""
      ],
      "execution_count": 0,
      "outputs": []
    },
    {
      "metadata": {
        "id": "tutqH9EiAX4u",
        "colab_type": "code",
        "colab": {}
      },
      "cell_type": "code",
      "source": [
        ""
      ],
      "execution_count": 0,
      "outputs": []
    }
  ]
}
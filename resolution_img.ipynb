{
  "nbformat": 4,
  "nbformat_minor": 0,
  "metadata": {
    "colab": {
      "name": "resolution_img.ipynb",
      "version": "0.3.2",
      "provenance": [],
      "include_colab_link": true
    },
    "kernelspec": {
      "name": "python3",
      "display_name": "Python 3"
    }
  },
  "cells": [
    {
      "cell_type": "markdown",
      "metadata": {
        "id": "view-in-github",
        "colab_type": "text"
      },
      "source": [
        "<a href=\"https://colab.research.google.com/github/liyujiel/419project/blob/master/resolution_img.ipynb\" target=\"_parent\"><img src=\"https://colab.research.google.com/assets/colab-badge.svg\" alt=\"Open In Colab\"/></a>"
      ]
    },
    {
      "metadata": {
        "id": "jnd6WipBcBi9",
        "colab_type": "code",
        "colab": {
          "base_uri": "https://localhost:8080/",
          "height": 119
        },
        "outputId": "f425d55e-8293-427c-bd40-9c0fde2c5e85"
      },
      "cell_type": "code",
      "source": [
        "!git clone https://github.com/jiny2001/dcscn-super-resolution.git"
      ],
      "execution_count": 1,
      "outputs": [
        {
          "output_type": "stream",
          "text": [
            "Cloning into 'dcscn-super-resolution'...\n",
            "remote: Enumerating objects: 1168, done.\u001b[K\n",
            "remote: Total 1168 (delta 0), reused 0 (delta 0), pack-reused 1168\u001b[K\n",
            "Receiving objects: 100% (1168/1168), 387.68 MiB | 35.01 MiB/s, done.\n",
            "Resolving deltas: 100% (469/469), done.\n",
            "Checking out files: 100% (469/469), done.\n"
          ],
          "name": "stdout"
        }
      ]
    },
    {
      "metadata": {
        "id": "zv6CWyLKcD16",
        "colab_type": "code",
        "colab": {
          "base_uri": "https://localhost:8080/",
          "height": 122
        },
        "outputId": "9e94ded0-afc6-4db2-e7df-2acb0cb54a4c"
      },
      "cell_type": "code",
      "source": [
        "from google.colab import drive\n",
        "drive.mount('/content/gdrive')"
      ],
      "execution_count": 2,
      "outputs": [
        {
          "output_type": "stream",
          "text": [
            "Go to this URL in a browser: https://accounts.google.com/o/oauth2/auth?client_id=947318989803-6bn6qk8qdgf4n4g3pfee6491hc0brc4i.apps.googleusercontent.com&redirect_uri=urn%3Aietf%3Awg%3Aoauth%3A2.0%3Aoob&scope=email%20https%3A%2F%2Fwww.googleapis.com%2Fauth%2Fdocs.test%20https%3A%2F%2Fwww.googleapis.com%2Fauth%2Fdrive%20https%3A%2F%2Fwww.googleapis.com%2Fauth%2Fdrive.photos.readonly%20https%3A%2F%2Fwww.googleapis.com%2Fauth%2Fpeopleapi.readonly&response_type=code\n",
            "\n",
            "Enter your authorization code:\n",
            "··········\n",
            "Mounted at /content/gdrive\n"
          ],
          "name": "stdout"
        }
      ]
    },
    {
      "metadata": {
        "id": "Lj3Ao-F5cFry",
        "colab_type": "code",
        "colab": {}
      },
      "cell_type": "code",
      "source": [
        "!mv dcscn-super-resolution ./dcscn_super_resolution"
      ],
      "execution_count": 0,
      "outputs": []
    },
    {
      "metadata": {
        "id": "D4clXLOycIkc",
        "colab_type": "code",
        "colab": {}
      },
      "cell_type": "code",
      "source": [
        "!cp -r dcscn_super_resolution/models ./"
      ],
      "execution_count": 0,
      "outputs": []
    },
    {
      "metadata": {
        "id": "0Nij98n8cLT2",
        "colab_type": "code",
        "colab": {
          "base_uri": "https://localhost:8080/",
          "height": 68
        },
        "outputId": "85135069-ec62-4dfd-afff-d3828b8e43f2"
      },
      "cell_type": "code",
      "source": [
        "import os\n",
        "times = 0 \n",
        "pics = os.listdir(\"/content/gdrive/My Drive/fer-image/Training/normal/\")\n",
        "for pic_name in pics:\n",
        "    os.system(\"python dcscn_super_resolution/sr.py --file=/content/gdrive/My\\ Drive/fer-image/Training/normal/{}  --layers=8 --filters=96\".format(pic_name))\n",
        "    print(\"finished pic {}\".format(pic_name))"
      ],
      "execution_count": 0,
      "outputs": [
        {
          "output_type": "stream",
          "text": [
            "finished pic 22774.png\n",
            "finished pic 22992.png\n",
            "finished pic 22843.png\n"
          ],
          "name": "stdout"
        }
      ]
    },
    {
      "metadata": {
        "id": "38cZXAhtcVRs",
        "colab_type": "code",
        "colab": {}
      },
      "cell_type": "code",
      "source": [
        ""
      ],
      "execution_count": 0,
      "outputs": []
    }
  ]
}